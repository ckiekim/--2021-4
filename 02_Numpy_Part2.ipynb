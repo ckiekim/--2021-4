{
  "nbformat": 4,
  "nbformat_minor": 0,
  "metadata": {
    "colab": {
      "name": "02_Numpy_Part2.ipynb",
      "provenance": [],
      "collapsed_sections": []
    },
    "kernelspec": {
      "name": "python3",
      "display_name": "Python 3"
    },
    "language_info": {
      "name": "python"
    }
  },
  "cells": [
    {
      "cell_type": "markdown",
      "metadata": {
        "id": "6C2kYupG9nb2"
      },
      "source": [
        "# Numpy Part 2"
      ]
    },
    {
      "cell_type": "code",
      "metadata": {
        "id": "hqRnOOwl9hk9"
      },
      "source": [
        "import numpy as np "
      ],
      "execution_count": 1,
      "outputs": []
    },
    {
      "cell_type": "markdown",
      "metadata": {
        "id": "3vc6Frut9xxu"
      },
      "source": [
        "### 4. Operation"
      ]
    },
    {
      "cell_type": "markdown",
      "metadata": {
        "id": "prqhSSEj9-Cu"
      },
      "source": [
        "- sum"
      ]
    },
    {
      "cell_type": "code",
      "metadata": {
        "colab": {
          "base_uri": "https://localhost:8080/"
        },
        "id": "oKetfDL79wmA",
        "outputId": "7f113b8e-116a-43fa-8d36-0676ebbdc746"
      },
      "source": [
        "a = np.arange(1,11)\n",
        "a.sum()                 # method"
      ],
      "execution_count": 2,
      "outputs": [
        {
          "output_type": "execute_result",
          "data": {
            "text/plain": [
              "55"
            ]
          },
          "metadata": {},
          "execution_count": 2
        }
      ]
    },
    {
      "cell_type": "code",
      "metadata": {
        "colab": {
          "base_uri": "https://localhost:8080/"
        },
        "id": "8MjXzdiK976d",
        "outputId": "132521d7-ac20-4c14-c0f2-475dbf56361b"
      },
      "source": [
        "np.sum(a)"
      ],
      "execution_count": 3,
      "outputs": [
        {
          "output_type": "execute_result",
          "data": {
            "text/plain": [
              "55"
            ]
          },
          "metadata": {},
          "execution_count": 3
        }
      ]
    },
    {
      "cell_type": "code",
      "metadata": {
        "colab": {
          "base_uri": "https://localhost:8080/"
        },
        "id": "vUuWEzoo-B1U",
        "outputId": "768fb66b-d23d-4db6-d89e-2069170b9dbc"
      },
      "source": [
        "b = np.arange(1,13).reshape(3,4)\n",
        "b"
      ],
      "execution_count": 5,
      "outputs": [
        {
          "output_type": "execute_result",
          "data": {
            "text/plain": [
              "array([[ 1,  2,  3,  4],\n",
              "       [ 5,  6,  7,  8],\n",
              "       [ 9, 10, 11, 12]])"
            ]
          },
          "metadata": {},
          "execution_count": 5
        }
      ]
    },
    {
      "cell_type": "code",
      "metadata": {
        "colab": {
          "base_uri": "https://localhost:8080/"
        },
        "id": "SNvOLTxO-Npb",
        "outputId": "13ac0224-0c47-446b-8b67-248a0b2c5524"
      },
      "source": [
        "b.sum()"
      ],
      "execution_count": 6,
      "outputs": [
        {
          "output_type": "execute_result",
          "data": {
            "text/plain": [
              "78"
            ]
          },
          "metadata": {},
          "execution_count": 6
        }
      ]
    },
    {
      "cell_type": "markdown",
      "metadata": {
        "id": "RcKnswK0_BYM"
      },
      "source": [
        "- axis"
      ]
    },
    {
      "cell_type": "code",
      "metadata": {
        "colab": {
          "base_uri": "https://localhost:8080/"
        },
        "id": "EWx3k5Uh-Snn",
        "outputId": "c4b779c0-f3f9-4feb-9b3f-65a32f07e91a"
      },
      "source": [
        "# 열의 합\n",
        "b.sum(axis=0)"
      ],
      "execution_count": 7,
      "outputs": [
        {
          "output_type": "execute_result",
          "data": {
            "text/plain": [
              "array([15, 18, 21, 24])"
            ]
          },
          "metadata": {},
          "execution_count": 7
        }
      ]
    },
    {
      "cell_type": "code",
      "metadata": {
        "colab": {
          "base_uri": "https://localhost:8080/"
        },
        "id": "T0FH8943-c2E",
        "outputId": "c28260bc-2af7-41bc-8fe2-4d140b88859b"
      },
      "source": [
        "# 행의 합\n",
        "b.sum(axis=1)"
      ],
      "execution_count": 8,
      "outputs": [
        {
          "output_type": "execute_result",
          "data": {
            "text/plain": [
              "array([10, 26, 42])"
            ]
          },
          "metadata": {},
          "execution_count": 8
        }
      ]
    },
    {
      "cell_type": "code",
      "metadata": {
        "colab": {
          "base_uri": "https://localhost:8080/"
        },
        "id": "M7Kz31V5-nQi",
        "outputId": "5a51579b-752f-4346-af94-8689286f535d"
      },
      "source": [
        "b.mean(axis=0)"
      ],
      "execution_count": 9,
      "outputs": [
        {
          "output_type": "execute_result",
          "data": {
            "text/plain": [
              "array([5., 6., 7., 8.])"
            ]
          },
          "metadata": {},
          "execution_count": 9
        }
      ]
    },
    {
      "cell_type": "code",
      "metadata": {
        "colab": {
          "base_uri": "https://localhost:8080/"
        },
        "id": "p2IwAPhu-8he",
        "outputId": "a15e9253-7769-495b-e29e-01abe7ac3dbf"
      },
      "source": [
        "b.mean(axis=1)"
      ],
      "execution_count": 10,
      "outputs": [
        {
          "output_type": "execute_result",
          "data": {
            "text/plain": [
              "array([ 2.5,  6.5, 10.5])"
            ]
          },
          "metadata": {},
          "execution_count": 10
        }
      ]
    },
    {
      "cell_type": "markdown",
      "metadata": {
        "id": "UauANcohQsPK"
      },
      "source": [
        "- sorting"
      ]
    },
    {
      "cell_type": "code",
      "metadata": {
        "colab": {
          "base_uri": "https://localhost:8080/"
        },
        "id": "wajTnsVt-_3s",
        "outputId": "48bab183-8d6b-4e73-e4a0-69f10037b097"
      },
      "source": [
        "c = np.array([[4,3,5,7],[1,12,11,9],[2,5,1,14]])\n",
        "c"
      ],
      "execution_count": 11,
      "outputs": [
        {
          "output_type": "execute_result",
          "data": {
            "text/plain": [
              "array([[ 4,  3,  5,  7],\n",
              "       [ 1, 12, 11,  9],\n",
              "       [ 2,  5,  1, 14]])"
            ]
          },
          "metadata": {},
          "execution_count": 11
        }
      ]
    },
    {
      "cell_type": "code",
      "metadata": {
        "colab": {
          "base_uri": "https://localhost:8080/"
        },
        "id": "zz8O16F7Q1W3",
        "outputId": "642aa28a-9824-43c1-986e-fcfc64c84b88"
      },
      "source": [
        "np.sort(c)          # axis = 1, c의 값은 변하지 않는다"
      ],
      "execution_count": 12,
      "outputs": [
        {
          "output_type": "execute_result",
          "data": {
            "text/plain": [
              "array([[ 3,  4,  5,  7],\n",
              "       [ 1,  9, 11, 12],\n",
              "       [ 1,  2,  5, 14]])"
            ]
          },
          "metadata": {},
          "execution_count": 12
        }
      ]
    },
    {
      "cell_type": "code",
      "metadata": {
        "colab": {
          "base_uri": "https://localhost:8080/"
        },
        "id": "hzQ9iegzQ8XC",
        "outputId": "12016b7f-eb7e-4c45-ae02-46a03215ef9e"
      },
      "source": [
        "c"
      ],
      "execution_count": 13,
      "outputs": [
        {
          "output_type": "execute_result",
          "data": {
            "text/plain": [
              "array([[ 4,  3,  5,  7],\n",
              "       [ 1, 12, 11,  9],\n",
              "       [ 2,  5,  1, 14]])"
            ]
          },
          "metadata": {},
          "execution_count": 13
        }
      ]
    },
    {
      "cell_type": "code",
      "metadata": {
        "id": "VwNvHpTIRDWh"
      },
      "source": [
        "c.sort()            # c의 값이 변함, in-place mode"
      ],
      "execution_count": 15,
      "outputs": []
    },
    {
      "cell_type": "code",
      "metadata": {
        "colab": {
          "base_uri": "https://localhost:8080/"
        },
        "id": "YaDkGfAQRJ8-",
        "outputId": "167adb3b-32de-4327-aaea-ef82db2e185b"
      },
      "source": [
        "c"
      ],
      "execution_count": 16,
      "outputs": [
        {
          "output_type": "execute_result",
          "data": {
            "text/plain": [
              "array([[ 3,  4,  5,  7],\n",
              "       [ 1,  9, 11, 12],\n",
              "       [ 1,  2,  5, 14]])"
            ]
          },
          "metadata": {},
          "execution_count": 16
        }
      ]
    },
    {
      "cell_type": "code",
      "metadata": {
        "colab": {
          "base_uri": "https://localhost:8080/"
        },
        "id": "TEdkVgCPRSd2",
        "outputId": "5399c20c-d23c-444f-cf9e-4ae8bb9076ed"
      },
      "source": [
        "c.sort(axis=0)\n",
        "c"
      ],
      "execution_count": 17,
      "outputs": [
        {
          "output_type": "execute_result",
          "data": {
            "text/plain": [
              "array([[ 1,  2,  5,  7],\n",
              "       [ 1,  4,  5, 12],\n",
              "       [ 3,  9, 11, 14]])"
            ]
          },
          "metadata": {},
          "execution_count": 17
        }
      ]
    },
    {
      "cell_type": "markdown",
      "metadata": {
        "id": "bAX_DiMvRyd-"
      },
      "source": [
        "- argsort"
      ]
    },
    {
      "cell_type": "code",
      "metadata": {
        "colab": {
          "base_uri": "https://localhost:8080/"
        },
        "id": "IP-dwFg3RquI",
        "outputId": "1f33457d-a62d-49e0-f9d1-e1eda58209ae"
      },
      "source": [
        "a = np.array([42,38,12,25])         \n",
        "np.argsort(a)                   # index 값을 얻어옴"
      ],
      "execution_count": 23,
      "outputs": [
        {
          "output_type": "execute_result",
          "data": {
            "text/plain": [
              "array([2, 3, 1, 0])"
            ]
          },
          "metadata": {},
          "execution_count": 23
        }
      ]
    },
    {
      "cell_type": "markdown",
      "metadata": {
        "id": "WNqn_-4iSJTU"
      },
      "source": [
        "- 내림차순"
      ]
    },
    {
      "cell_type": "code",
      "metadata": {
        "colab": {
          "base_uri": "https://localhost:8080/"
        },
        "id": "HZlO4-XOSUW3",
        "outputId": "ff5d8ae4-5232-4589-a5e9-d85b30d792da"
      },
      "source": [
        "l = [11, 3, 4, 8]\n",
        "l.sort(reverse=True)        # 리스트\n",
        "l"
      ],
      "execution_count": 20,
      "outputs": [
        {
          "output_type": "execute_result",
          "data": {
            "text/plain": [
              "[11, 8, 4, 3]"
            ]
          },
          "metadata": {},
          "execution_count": 20
        }
      ]
    },
    {
      "cell_type": "code",
      "metadata": {
        "colab": {
          "base_uri": "https://localhost:8080/"
        },
        "id": "saplNIBVSVZB",
        "outputId": "9a12acd3-358c-4c85-9145-193b59619cdb"
      },
      "source": [
        "a.sort()\n",
        "a[::-1]                     # 넘파이 어레이 내림차순(descending order)"
      ],
      "execution_count": 24,
      "outputs": [
        {
          "output_type": "execute_result",
          "data": {
            "text/plain": [
              "array([42, 38, 25, 12])"
            ]
          },
          "metadata": {},
          "execution_count": 24
        }
      ]
    },
    {
      "cell_type": "markdown",
      "metadata": {
        "id": "rMJFLR5XTJDx"
      },
      "source": [
        "- concatenate"
      ]
    },
    {
      "cell_type": "code",
      "metadata": {
        "colab": {
          "base_uri": "https://localhost:8080/"
        },
        "id": "0MaqrYObSlaS",
        "outputId": "c24552b7-687b-4429-8845-36723a5838ff"
      },
      "source": [
        "a = np.array([[1, 2], [3, 4]])\n",
        "b = np.array([[5, 6]])\n",
        "a"
      ],
      "execution_count": 25,
      "outputs": [
        {
          "output_type": "execute_result",
          "data": {
            "text/plain": [
              "array([[1, 2],\n",
              "       [3, 4]])"
            ]
          },
          "metadata": {},
          "execution_count": 25
        }
      ]
    },
    {
      "cell_type": "code",
      "metadata": {
        "colab": {
          "base_uri": "https://localhost:8080/"
        },
        "id": "9iGymuFgTOSf",
        "outputId": "f75a287f-43a8-42f6-849a-ea7bf4120fc5"
      },
      "source": [
        "b"
      ],
      "execution_count": 26,
      "outputs": [
        {
          "output_type": "execute_result",
          "data": {
            "text/plain": [
              "array([[5, 6]])"
            ]
          },
          "metadata": {},
          "execution_count": 26
        }
      ]
    },
    {
      "cell_type": "code",
      "metadata": {
        "colab": {
          "base_uri": "https://localhost:8080/"
        },
        "id": "-7EtaAidTPM2",
        "outputId": "fb574485-3f1b-4dbc-80bd-b6f29a23a7f5"
      },
      "source": [
        "np.vstack((a, b))           # vertical stacking"
      ],
      "execution_count": 28,
      "outputs": [
        {
          "output_type": "execute_result",
          "data": {
            "text/plain": [
              "array([[1, 2],\n",
              "       [3, 4],\n",
              "       [5, 6]])"
            ]
          },
          "metadata": {},
          "execution_count": 28
        }
      ]
    },
    {
      "cell_type": "code",
      "metadata": {
        "colab": {
          "base_uri": "https://localhost:8080/"
        },
        "id": "zQgELSbMTX25",
        "outputId": "84bd0077-ad30-4cd1-cdc7-6a551db27ce8"
      },
      "source": [
        "np.concatenate((a,b), axis=0)"
      ],
      "execution_count": 29,
      "outputs": [
        {
          "output_type": "execute_result",
          "data": {
            "text/plain": [
              "array([[1, 2],\n",
              "       [3, 4],\n",
              "       [5, 6]])"
            ]
          },
          "metadata": {},
          "execution_count": 29
        }
      ]
    },
    {
      "cell_type": "code",
      "metadata": {
        "colab": {
          "base_uri": "https://localhost:8080/"
        },
        "id": "JxzadGIzTlBP",
        "outputId": "790d232f-f0e7-4876-d585-949230ba66d5"
      },
      "source": [
        "# 전치(transpose)\n",
        "b.T"
      ],
      "execution_count": 30,
      "outputs": [
        {
          "output_type": "execute_result",
          "data": {
            "text/plain": [
              "array([[5],\n",
              "       [6]])"
            ]
          },
          "metadata": {},
          "execution_count": 30
        }
      ]
    },
    {
      "cell_type": "code",
      "metadata": {
        "colab": {
          "base_uri": "https://localhost:8080/"
        },
        "id": "uKEp_K2JT3Q1",
        "outputId": "0f147105-2e8c-4693-bf8e-d9accc369955"
      },
      "source": [
        "np.hstack((a, b.T))         # horizontal stacking"
      ],
      "execution_count": 32,
      "outputs": [
        {
          "output_type": "execute_result",
          "data": {
            "text/plain": [
              "array([[1, 2, 5],\n",
              "       [3, 4, 6]])"
            ]
          },
          "metadata": {},
          "execution_count": 32
        }
      ]
    },
    {
      "cell_type": "code",
      "metadata": {
        "colab": {
          "base_uri": "https://localhost:8080/"
        },
        "id": "D9rx6VuaUAE9",
        "outputId": "1c701e5d-b103-496c-daaa-770f1ac4d228"
      },
      "source": [
        "np.concatenate((a,b.T), axis=1)"
      ],
      "execution_count": 33,
      "outputs": [
        {
          "output_type": "execute_result",
          "data": {
            "text/plain": [
              "array([[1, 2, 5],\n",
              "       [3, 4, 6]])"
            ]
          },
          "metadata": {},
          "execution_count": 33
        }
      ]
    },
    {
      "cell_type": "markdown",
      "metadata": {
        "id": "RvxXM_CjUTQC"
      },
      "source": [
        "### 5. Array operation"
      ]
    },
    {
      "cell_type": "code",
      "metadata": {
        "colab": {
          "base_uri": "https://localhost:8080/"
        },
        "id": "80z5M6DLUIoU",
        "outputId": "9b822e8e-f823-4680-8d54-930ab78f9a46"
      },
      "source": [
        "a = np.arange(1,7).reshape(2,3)\n",
        "a"
      ],
      "execution_count": 34,
      "outputs": [
        {
          "output_type": "execute_result",
          "data": {
            "text/plain": [
              "array([[1, 2, 3],\n",
              "       [4, 5, 6]])"
            ]
          },
          "metadata": {},
          "execution_count": 34
        }
      ]
    },
    {
      "cell_type": "markdown",
      "metadata": {
        "id": "4QTamtZxUp5D"
      },
      "source": [
        "- 어레이 요소간의 사칙 연산"
      ]
    },
    {
      "cell_type": "code",
      "metadata": {
        "colab": {
          "base_uri": "https://localhost:8080/"
        },
        "id": "hKZ99C1_Ucoy",
        "outputId": "94d0d933-dc10-4a74-d88b-387a745eb6b0"
      },
      "source": [
        "a + a"
      ],
      "execution_count": 35,
      "outputs": [
        {
          "output_type": "execute_result",
          "data": {
            "text/plain": [
              "array([[ 2,  4,  6],\n",
              "       [ 8, 10, 12]])"
            ]
          },
          "metadata": {},
          "execution_count": 35
        }
      ]
    },
    {
      "cell_type": "code",
      "metadata": {
        "colab": {
          "base_uri": "https://localhost:8080/"
        },
        "id": "uRTQHBGqUjUw",
        "outputId": "dc0f0221-f458-4b89-8024-d6ad5f8d6631"
      },
      "source": [
        "a * a"
      ],
      "execution_count": 36,
      "outputs": [
        {
          "output_type": "execute_result",
          "data": {
            "text/plain": [
              "array([[ 1,  4,  9],\n",
              "       [16, 25, 36]])"
            ]
          },
          "metadata": {},
          "execution_count": 36
        }
      ]
    },
    {
      "cell_type": "code",
      "metadata": {
        "colab": {
          "base_uri": "https://localhost:8080/"
        },
        "id": "4VQ40oPlUlza",
        "outputId": "0ef37263-de4f-4888-9eea-f72a9e4ad2c5"
      },
      "source": [
        "a - a"
      ],
      "execution_count": 37,
      "outputs": [
        {
          "output_type": "execute_result",
          "data": {
            "text/plain": [
              "array([[0, 0, 0],\n",
              "       [0, 0, 0]])"
            ]
          },
          "metadata": {},
          "execution_count": 37
        }
      ]
    },
    {
      "cell_type": "code",
      "metadata": {
        "colab": {
          "base_uri": "https://localhost:8080/"
        },
        "id": "ngUmf-CQUnWv",
        "outputId": "779f7982-08f5-45c5-e6fc-0066f69aca33"
      },
      "source": [
        "a / a"
      ],
      "execution_count": 38,
      "outputs": [
        {
          "output_type": "execute_result",
          "data": {
            "text/plain": [
              "array([[1., 1., 1.],\n",
              "       [1., 1., 1.]])"
            ]
          },
          "metadata": {},
          "execution_count": 38
        }
      ]
    },
    {
      "cell_type": "markdown",
      "metadata": {
        "id": "X25R0N7YU0qa"
      },
      "source": [
        "- dot product"
      ]
    },
    {
      "cell_type": "code",
      "metadata": {
        "colab": {
          "base_uri": "https://localhost:8080/"
        },
        "id": "DV2JvLuCUob8",
        "outputId": "d1b2569f-e77b-41be-8c21-6f0390b3f149"
      },
      "source": [
        "np.dot(a, a.T)      # (2, 3) dot (3, 2) --> (2, 2)"
      ],
      "execution_count": 39,
      "outputs": [
        {
          "output_type": "execute_result",
          "data": {
            "text/plain": [
              "array([[14, 32],\n",
              "       [32, 77]])"
            ]
          },
          "metadata": {},
          "execution_count": 39
        }
      ]
    },
    {
      "cell_type": "markdown",
      "metadata": {
        "id": "WfJfZBorV1vZ"
      },
      "source": [
        "- broadcasting"
      ]
    },
    {
      "cell_type": "code",
      "metadata": {
        "colab": {
          "base_uri": "https://localhost:8080/"
        },
        "id": "rkFKcMOHVg0m",
        "outputId": "a6ce03dd-7463-4207-9c86-e42238eda78d"
      },
      "source": [
        "a + 3"
      ],
      "execution_count": 40,
      "outputs": [
        {
          "output_type": "execute_result",
          "data": {
            "text/plain": [
              "array([[4, 5, 6],\n",
              "       [7, 8, 9]])"
            ]
          },
          "metadata": {},
          "execution_count": 40
        }
      ]
    },
    {
      "cell_type": "code",
      "metadata": {
        "colab": {
          "base_uri": "https://localhost:8080/"
        },
        "id": "DzKcdHtfWFVU",
        "outputId": "5beb010e-0f21-4e94-b02e-8ae6a5f006b1"
      },
      "source": [
        "a + np.array([10,20,30])"
      ],
      "execution_count": 41,
      "outputs": [
        {
          "output_type": "execute_result",
          "data": {
            "text/plain": [
              "array([[11, 22, 33],\n",
              "       [14, 25, 36]])"
            ]
          },
          "metadata": {},
          "execution_count": 41
        }
      ]
    },
    {
      "cell_type": "code",
      "metadata": {
        "colab": {
          "base_uri": "https://localhost:8080/"
        },
        "id": "qiuuuYB-WSMy",
        "outputId": "5d050e80-2b61-42a4-8d25-2a9ee27b7f8c"
      },
      "source": [
        "a + np.array([[10],[20]])       # (2,3) + (2,1)"
      ],
      "execution_count": 43,
      "outputs": [
        {
          "output_type": "execute_result",
          "data": {
            "text/plain": [
              "array([[11, 12, 13],\n",
              "       [24, 25, 26]])"
            ]
          },
          "metadata": {},
          "execution_count": 43
        }
      ]
    },
    {
      "cell_type": "markdown",
      "metadata": {
        "id": "Vzdj9PtaW_q7"
      },
      "source": [
        "### 6. Comparison"
      ]
    },
    {
      "cell_type": "code",
      "metadata": {
        "colab": {
          "base_uri": "https://localhost:8080/"
        },
        "id": "vajuLEhUWfz-",
        "outputId": "ac589776-bbdf-4b21-fb92-cde081fe2c09"
      },
      "source": [
        "a = np.arange(8)\n",
        "a"
      ],
      "execution_count": 45,
      "outputs": [
        {
          "output_type": "execute_result",
          "data": {
            "text/plain": [
              "array([0, 1, 2, 3, 4, 5, 6, 7])"
            ]
          },
          "metadata": {},
          "execution_count": 45
        }
      ]
    },
    {
      "cell_type": "markdown",
      "metadata": {
        "id": "k4Uy245aYCpp"
      },
      "source": [
        "- 비교연산자"
      ]
    },
    {
      "cell_type": "code",
      "metadata": {
        "colab": {
          "base_uri": "https://localhost:8080/"
        },
        "id": "GgSMWs9oXRAL",
        "outputId": "c41233c1-fc15-4a90-d220-fde5783de7b5"
      },
      "source": [
        "a > 4"
      ],
      "execution_count": 46,
      "outputs": [
        {
          "output_type": "execute_result",
          "data": {
            "text/plain": [
              "array([False, False, False, False, False,  True,  True,  True])"
            ]
          },
          "metadata": {},
          "execution_count": 46
        }
      ]
    },
    {
      "cell_type": "code",
      "metadata": {
        "colab": {
          "base_uri": "https://localhost:8080/"
        },
        "id": "7PN5BnroXd1-",
        "outputId": "11b1dd81-c212-4b10-d883-e635e2dbb6a7"
      },
      "source": [
        "np.all(a>4)"
      ],
      "execution_count": 47,
      "outputs": [
        {
          "output_type": "execute_result",
          "data": {
            "text/plain": [
              "False"
            ]
          },
          "metadata": {},
          "execution_count": 47
        }
      ]
    },
    {
      "cell_type": "code",
      "metadata": {
        "colab": {
          "base_uri": "https://localhost:8080/"
        },
        "id": "39-VNhttX0tj",
        "outputId": "bbb8e435-d54b-4bc0-b0cc-e260ff8ccf83"
      },
      "source": [
        "np.any(a>4)"
      ],
      "execution_count": 48,
      "outputs": [
        {
          "output_type": "execute_result",
          "data": {
            "text/plain": [
              "True"
            ]
          },
          "metadata": {},
          "execution_count": 48
        }
      ]
    },
    {
      "cell_type": "markdown",
      "metadata": {
        "id": "Hb2CDqHzYFcs"
      },
      "source": [
        "- 논리연산자"
      ]
    },
    {
      "cell_type": "code",
      "metadata": {
        "colab": {
          "base_uri": "https://localhost:8080/"
        },
        "id": "jSKPnZclX6Pu",
        "outputId": "cfe48efb-7e32-42f9-aa4f-145b62f843ac"
      },
      "source": [
        "b = np.logical_and(a > 2, a < 5)\n",
        "b"
      ],
      "execution_count": 49,
      "outputs": [
        {
          "output_type": "execute_result",
          "data": {
            "text/plain": [
              "array([False, False, False,  True,  True, False, False, False])"
            ]
          },
          "metadata": {},
          "execution_count": 49
        }
      ]
    },
    {
      "cell_type": "code",
      "metadata": {
        "colab": {
          "base_uri": "https://localhost:8080/"
        },
        "id": "dyrpufWgYUiy",
        "outputId": "8f9b0560-20e5-49bd-8a61-3b90d1fabacf"
      },
      "source": [
        "a[b]"
      ],
      "execution_count": 50,
      "outputs": [
        {
          "output_type": "execute_result",
          "data": {
            "text/plain": [
              "array([3, 4])"
            ]
          },
          "metadata": {},
          "execution_count": 50
        }
      ]
    },
    {
      "cell_type": "code",
      "metadata": {
        "colab": {
          "base_uri": "https://localhost:8080/"
        },
        "id": "Ma0Aty3tYcn5",
        "outputId": "1708abc2-f776-401d-ab4f-92297988762c"
      },
      "source": [
        "a[np.logical_and(a > 2, a < 5)]         # filtering"
      ],
      "execution_count": 51,
      "outputs": [
        {
          "output_type": "execute_result",
          "data": {
            "text/plain": [
              "array([3, 4])"
            ]
          },
          "metadata": {},
          "execution_count": 51
        }
      ]
    },
    {
      "cell_type": "code",
      "metadata": {
        "colab": {
          "base_uri": "https://localhost:8080/"
        },
        "id": "rrE30dPtYsvQ",
        "outputId": "80cf41ac-2df3-4f8f-e999-ccc63db92609"
      },
      "source": [
        "a[np.logical_or(a < 2, a > 5)]"
      ],
      "execution_count": 54,
      "outputs": [
        {
          "output_type": "execute_result",
          "data": {
            "text/plain": [
              "array([0, 1, 6, 7])"
            ]
          },
          "metadata": {},
          "execution_count": 54
        }
      ]
    },
    {
      "cell_type": "code",
      "metadata": {
        "colab": {
          "base_uri": "https://localhost:8080/"
        },
        "id": "3NXMEMASZU41",
        "outputId": "d08e633f-b157-47d0-8bec-6a589c03aa27"
      },
      "source": [
        "np.logical_not(b)"
      ],
      "execution_count": 55,
      "outputs": [
        {
          "output_type": "execute_result",
          "data": {
            "text/plain": [
              "array([ True,  True,  True, False, False,  True,  True,  True])"
            ]
          },
          "metadata": {},
          "execution_count": 55
        }
      ]
    },
    {
      "cell_type": "markdown",
      "metadata": {
        "id": "IqoX4YL5ZkY5"
      },
      "source": [
        "- min, max"
      ]
    },
    {
      "cell_type": "code",
      "metadata": {
        "colab": {
          "base_uri": "https://localhost:8080/"
        },
        "id": "YUPox6BmZc2w",
        "outputId": "9e80645d-a2fd-4979-b33e-41d5a9016392"
      },
      "source": [
        "a.min(), a.max()"
      ],
      "execution_count": 56,
      "outputs": [
        {
          "output_type": "execute_result",
          "data": {
            "text/plain": [
              "(0, 7)"
            ]
          },
          "metadata": {},
          "execution_count": 56
        }
      ]
    },
    {
      "cell_type": "markdown",
      "metadata": {
        "id": "q_7O8L5NZqpH"
      },
      "source": [
        "- argmin, argmax"
      ]
    },
    {
      "cell_type": "code",
      "metadata": {
        "colab": {
          "base_uri": "https://localhost:8080/"
        },
        "id": "0szfJNYKZovx",
        "outputId": "bfbde18e-2ac6-4324-b3eb-f13e9c8394cc"
      },
      "source": [
        "a = np.array([[1,2,4,7],[9,88,6,45],[8,78,23,3]])\n",
        "a"
      ],
      "execution_count": 57,
      "outputs": [
        {
          "output_type": "execute_result",
          "data": {
            "text/plain": [
              "array([[ 1,  2,  4,  7],\n",
              "       [ 9, 88,  6, 45],\n",
              "       [ 8, 78, 23,  3]])"
            ]
          },
          "metadata": {},
          "execution_count": 57
        }
      ]
    },
    {
      "cell_type": "code",
      "metadata": {
        "colab": {
          "base_uri": "https://localhost:8080/"
        },
        "id": "NuBfQzedZx5x",
        "outputId": "0197e033-606d-4e7c-cf6c-85e76f7cbb23"
      },
      "source": [
        "a.argmin(axis=1)"
      ],
      "execution_count": 59,
      "outputs": [
        {
          "output_type": "execute_result",
          "data": {
            "text/plain": [
              "array([0, 2, 3])"
            ]
          },
          "metadata": {},
          "execution_count": 59
        }
      ]
    },
    {
      "cell_type": "code",
      "metadata": {
        "colab": {
          "base_uri": "https://localhost:8080/"
        },
        "id": "BNpl7B03Z7pC",
        "outputId": "014e449a-b139-4291-a064-4595e26a2ebc"
      },
      "source": [
        "a.argmax(axis=0)"
      ],
      "execution_count": 60,
      "outputs": [
        {
          "output_type": "execute_result",
          "data": {
            "text/plain": [
              "array([1, 1, 2, 1])"
            ]
          },
          "metadata": {},
          "execution_count": 60
        }
      ]
    },
    {
      "cell_type": "markdown",
      "metadata": {
        "id": "KMTKzkLrefR7"
      },
      "source": [
        "### 7. Boolean index"
      ]
    },
    {
      "cell_type": "code",
      "metadata": {
        "colab": {
          "base_uri": "https://localhost:8080/"
        },
        "id": "4akAELbqejLl",
        "outputId": "3ecfbf8f-ae56-4d7a-af3d-e9e7a1dfec09"
      },
      "source": [
        "a = np.array([1,4,0,2,3,8,9,7])\n",
        "a > 5"
      ],
      "execution_count": 64,
      "outputs": [
        {
          "output_type": "execute_result",
          "data": {
            "text/plain": [
              "array([False, False, False, False, False,  True,  True,  True])"
            ]
          },
          "metadata": {},
          "execution_count": 64
        }
      ]
    },
    {
      "cell_type": "code",
      "metadata": {
        "colab": {
          "base_uri": "https://localhost:8080/"
        },
        "id": "uX_zhz__exp5",
        "outputId": "84e165bf-9239-4a1b-8574-d37bde35ee6b"
      },
      "source": [
        "# boolean index, filtering\n",
        "a[a > 5]"
      ],
      "execution_count": 65,
      "outputs": [
        {
          "output_type": "execute_result",
          "data": {
            "text/plain": [
              "array([8, 9, 7])"
            ]
          },
          "metadata": {},
          "execution_count": 65
        }
      ]
    },
    {
      "cell_type": "code",
      "metadata": {
        "colab": {
          "base_uri": "https://localhost:8080/"
        },
        "id": "41cM_B6qe5Ob",
        "outputId": "fbfd2d91-aaaa-4ecd-86cf-b696c3a9d588"
      },
      "source": [
        "# fancy index\n",
        "b = np.array([1,2,5,7])\n",
        "a[b]"
      ],
      "execution_count": 66,
      "outputs": [
        {
          "output_type": "execute_result",
          "data": {
            "text/plain": [
              "array([4, 0, 8, 7])"
            ]
          },
          "metadata": {},
          "execution_count": 66
        }
      ]
    },
    {
      "cell_type": "code",
      "metadata": {
        "colab": {
          "base_uri": "https://localhost:8080/"
        },
        "id": "66JNKFaAfJ1W",
        "outputId": "153b07c1-ddfc-4d44-a056-590a9bd8224f"
      },
      "source": [
        "a.take(b)"
      ],
      "execution_count": 67,
      "outputs": [
        {
          "output_type": "execute_result",
          "data": {
            "text/plain": [
              "array([4, 0, 8, 7])"
            ]
          },
          "metadata": {},
          "execution_count": 67
        }
      ]
    },
    {
      "cell_type": "markdown",
      "metadata": {
        "id": "YO20Og8ifWWG"
      },
      "source": [
        "### 8. 기술 통계"
      ]
    },
    {
      "cell_type": "code",
      "metadata": {
        "colab": {
          "base_uri": "https://localhost:8080/"
        },
        "id": "nfe_p3vUfUV_",
        "outputId": "45e07c21-dade-441b-a189-3bb5823b485a"
      },
      "source": [
        "np.random.seed(2021)\n",
        "x = np.random.randn(1000)\n",
        "np.mean(x)                  # 0.00008899"
      ],
      "execution_count": 68,
      "outputs": [
        {
          "output_type": "execute_result",
          "data": {
            "text/plain": [
              "8.898612795213801e-05"
            ]
          },
          "metadata": {},
          "execution_count": 68
        }
      ]
    },
    {
      "cell_type": "code",
      "metadata": {
        "colab": {
          "base_uri": "https://localhost:8080/"
        },
        "id": "9AHNrb-4fvUV",
        "outputId": "22f117aa-4371-466c-80f8-7699e54cb8f3"
      },
      "source": [
        "np.var(x), np.var(x, ddof=1)    # 모분산"
      ],
      "execution_count": 70,
      "outputs": [
        {
          "output_type": "execute_result",
          "data": {
            "text/plain": [
              "(1.0136496653252076, 1.0146643296548625)"
            ]
          },
          "metadata": {},
          "execution_count": 70
        }
      ]
    },
    {
      "cell_type": "code",
      "metadata": {
        "colab": {
          "base_uri": "https://localhost:8080/"
        },
        "id": "j8T0Riruf32H",
        "outputId": "4ddde7ae-a9f5-48bc-ed78-e2b94c6b5766"
      },
      "source": [
        "np.std(x)"
      ],
      "execution_count": 71,
      "outputs": [
        {
          "output_type": "execute_result",
          "data": {
            "text/plain": [
              "1.0068017010937196"
            ]
          },
          "metadata": {},
          "execution_count": 71
        }
      ]
    },
    {
      "cell_type": "code",
      "metadata": {
        "colab": {
          "base_uri": "https://localhost:8080/"
        },
        "id": "7gE_jRwpgOX2",
        "outputId": "0da60cac-6766-40a4-c781-930bc2e6c9e6"
      },
      "source": [
        "np.median(x)"
      ],
      "execution_count": 72,
      "outputs": [
        {
          "output_type": "execute_result",
          "data": {
            "text/plain": [
              "0.013369522522667487"
            ]
          },
          "metadata": {},
          "execution_count": 72
        }
      ]
    },
    {
      "cell_type": "code",
      "metadata": {
        "colab": {
          "base_uri": "https://localhost:8080/",
          "height": 265
        },
        "id": "rHZ6EwnwgYUS",
        "outputId": "469f0740-6660-4643-f3d9-566c42a6436a"
      },
      "source": [
        "import matplotlib.pyplot as plt\n",
        "plt.boxplot(x)\n",
        "plt.show()"
      ],
      "execution_count": 73,
      "outputs": [
        {
          "output_type": "display_data",
          "data": {
            "image/png": "[encoded data removed]",
            "text/plain": [
              "<Figure size 432x288 with 1 Axes>"
            ]
          },
          "metadata": {
            "needs_background": "light"
          }
        }
      ]
    },
    {
      "cell_type": "code",
      "metadata": {
        "id": "WihaY6pBglbP"
      },
      "source": [
        ""
      ],
      "execution_count": null,
      "outputs": []
    }
  ]
}
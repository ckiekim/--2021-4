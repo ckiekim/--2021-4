{
  "nbformat": 4,
  "nbformat_minor": 0,
  "metadata": {
    "colab": {
      "name": "01_Numpy.ipynb",
      "provenance": [],
      "collapsed_sections": []
    },
    "kernelspec": {
      "name": "python3",
      "display_name": "Python 3"
    },
    "language_info": {
      "name": "python"
    }
  },
  "cells": [
    {
      "cell_type": "markdown",
      "metadata": {
        "id": "I6DGhRMQpZZD"
      },
      "source": [
        "# 넘파이(Numpy: Numerical Python)"
      ]
    },
    {
      "cell_type": "code",
      "metadata": {
        "id": "DlpJW4XjpNj-"
      },
      "source": [
        "import numpy as np          # de facto standard"
      ],
      "execution_count": 2,
      "outputs": []
    },
    {
      "cell_type": "markdown",
      "metadata": {
        "id": "jnkU9IgurraI"
      },
      "source": [
        "### 1. ndarray(Numpy N-Dimensional Array)"
      ]
    },
    {
      "cell_type": "code",
      "metadata": {
        "colab": {
          "base_uri": "https://localhost:8080/"
        },
        "id": "zPhNJaubrqTP",
        "outputId": "a889a4ad-ac57-4bc7-a8ee-dc03e4b0cf48"
      },
      "source": [
        "a = np.array([1,4,5,8], dtype=np.int32)     \n",
        "a"
      ],
      "execution_count": 3,
      "outputs": [
        {
          "output_type": "execute_result",
          "data": {
            "text/plain": [
              "array([1, 4, 5, 8], dtype=int32)"
            ]
          },
          "metadata": {},
          "execution_count": 3
        }
      ]
    },
    {
      "cell_type": "code",
      "metadata": {
        "colab": {
          "base_uri": "https://localhost:8080/"
        },
        "id": "lod08cvgsLmM",
        "outputId": "5af2a986-d9b2-4131-a89e-f91796736a4c"
      },
      "source": [
        "a.dtype         # int16, int32, int64, uint8, uint16, ..."
      ],
      "execution_count": 4,
      "outputs": [
        {
          "output_type": "execute_result",
          "data": {
            "text/plain": [
              "dtype('int32')"
            ]
          },
          "metadata": {},
          "execution_count": 4
        }
      ]
    },
    {
      "cell_type": "code",
      "metadata": {
        "colab": {
          "base_uri": "https://localhost:8080/"
        },
        "id": "3Dq5VCJ8sV5s",
        "outputId": "6f20d99d-98fc-4070-9d10-323765018bf0"
      },
      "source": [
        "a.shape         # tuple로 보여줌"
      ],
      "execution_count": 5,
      "outputs": [
        {
          "output_type": "execute_result",
          "data": {
            "text/plain": [
              "(4,)"
            ]
          },
          "metadata": {},
          "execution_count": 5
        }
      ]
    },
    {
      "cell_type": "markdown",
      "metadata": {
        "id": "0e15SQHKtFym"
      },
      "source": [
        "- Vector (1차원)"
      ]
    },
    {
      "cell_type": "code",
      "metadata": {
        "colab": {
          "base_uri": "https://localhost:8080/"
        },
        "id": "Ymv6xksmsrEz",
        "outputId": "a785b0cb-370a-45ae-fc87-b8c9d9681898"
      },
      "source": [
        "a = np.array([1,4,5,8])\n",
        "a"
      ],
      "execution_count": 6,
      "outputs": [
        {
          "output_type": "execute_result",
          "data": {
            "text/plain": [
              "array([1, 4, 5, 8])"
            ]
          },
          "metadata": {},
          "execution_count": 6
        }
      ]
    },
    {
      "cell_type": "markdown",
      "metadata": {
        "id": "Why5CDsktQoJ"
      },
      "source": [
        "- Matrix (2차원)"
      ]
    },
    {
      "cell_type": "code",
      "metadata": {
        "colab": {
          "base_uri": "https://localhost:8080/"
        },
        "id": "xdzSYyOvtMhg",
        "outputId": "b666378a-e258-4bd6-e9bf-deb03e12fc26"
      },
      "source": [
        "m = [[1,2,5,8], [2,3,4,9], [4,5,6,7]]\n",
        "m = np.array(m)\n",
        "m"
      ],
      "execution_count": 9,
      "outputs": [
        {
          "output_type": "execute_result",
          "data": {
            "text/plain": [
              "array([[1, 2, 5, 8],\n",
              "       [2, 3, 4, 9],\n",
              "       [4, 5, 6, 7]])"
            ]
          },
          "metadata": {},
          "execution_count": 9
        }
      ]
    },
    {
      "cell_type": "code",
      "metadata": {
        "colab": {
          "base_uri": "https://localhost:8080/"
        },
        "id": "aw3afBWAtZRT",
        "outputId": "11a78ef6-3953-4f72-e432-2a97ec3aee9e"
      },
      "source": [
        "m.shape, m.dtype"
      ],
      "execution_count": 11,
      "outputs": [
        {
          "output_type": "execute_result",
          "data": {
            "text/plain": [
              "((3, 4), dtype('int64'))"
            ]
          },
          "metadata": {},
          "execution_count": 11
        }
      ]
    },
    {
      "cell_type": "markdown",
      "metadata": {
        "id": "XZUk-yKWtuSY"
      },
      "source": [
        "- Tensor (3차원)"
      ]
    },
    {
      "cell_type": "code",
      "metadata": {
        "colab": {
          "base_uri": "https://localhost:8080/"
        },
        "id": "gHsWbMOUtbWT",
        "outputId": "a66be7c9-58b6-48e6-f104-3fbd8007f9ad"
      },
      "source": [
        "t = np.arange(24).reshape(2,3,4)\n",
        "t"
      ],
      "execution_count": 12,
      "outputs": [
        {
          "output_type": "execute_result",
          "data": {
            "text/plain": [
              "array([[[ 0,  1,  2,  3],\n",
              "        [ 4,  5,  6,  7],\n",
              "        [ 8,  9, 10, 11]],\n",
              "\n",
              "       [[12, 13, 14, 15],\n",
              "        [16, 17, 18, 19],\n",
              "        [20, 21, 22, 23]]])"
            ]
          },
          "metadata": {},
          "execution_count": 12
        }
      ]
    },
    {
      "cell_type": "code",
      "metadata": {
        "colab": {
          "base_uri": "https://localhost:8080/"
        },
        "id": "NDvaG-eeuEQr",
        "outputId": "7a1bf805-b222-49a7-bff4-b3fccfe138ff"
      },
      "source": [
        "t.shape, t.dtype"
      ],
      "execution_count": 13,
      "outputs": [
        {
          "output_type": "execute_result",
          "data": {
            "text/plain": [
              "((2, 3, 4), dtype('int64'))"
            ]
          },
          "metadata": {},
          "execution_count": 13
        }
      ]
    },
    {
      "cell_type": "code",
      "metadata": {
        "colab": {
          "base_uri": "https://localhost:8080/"
        },
        "id": "N1amMKcruM9D",
        "outputId": "86e1a7e8-b370-4f0d-99eb-daaf59f25500"
      },
      "source": [
        "a.ndim, m.ndim, t.ndim      # 차원"
      ],
      "execution_count": 15,
      "outputs": [
        {
          "output_type": "execute_result",
          "data": {
            "text/plain": [
              "(1, 2, 3)"
            ]
          },
          "metadata": {},
          "execution_count": 15
        }
      ]
    },
    {
      "cell_type": "code",
      "metadata": {
        "colab": {
          "base_uri": "https://localhost:8080/"
        },
        "id": "cJOZHYXcugJg",
        "outputId": "87851c69-66a5-444c-8f84-a0d57538bc7c"
      },
      "source": [
        "a.size, m.size, t.size      # 요소의 갯수"
      ],
      "execution_count": 16,
      "outputs": [
        {
          "output_type": "execute_result",
          "data": {
            "text/plain": [
              "(4, 12, 24)"
            ]
          },
          "metadata": {},
          "execution_count": 16
        }
      ]
    },
    {
      "cell_type": "markdown",
      "metadata": {
        "id": "Qcaiqr2tu6mX"
      },
      "source": [
        "- dtype"
      ]
    },
    {
      "cell_type": "code",
      "metadata": {
        "colab": {
          "base_uri": "https://localhost:8080/"
        },
        "id": "7vOADqrnur5_",
        "outputId": "6dd35abe-68a8-4de5-af72-b2a88642d562"
      },
      "source": [
        "np.array([1, 2.3, '4'])"
      ],
      "execution_count": 17,
      "outputs": [
        {
          "output_type": "execute_result",
          "data": {
            "text/plain": [
              "array(['1', '2.3', '4'], dtype='<U32')"
            ]
          },
          "metadata": {},
          "execution_count": 17
        }
      ]
    },
    {
      "cell_type": "code",
      "metadata": {
        "colab": {
          "base_uri": "https://localhost:8080/"
        },
        "id": "KR54DEqCvCyS",
        "outputId": "4ef1e1e9-902a-4227-f41c-2fa4f8059048"
      },
      "source": [
        "np.array([1, 2.3, '4'], dtype=np.float32)"
      ],
      "execution_count": 18,
      "outputs": [
        {
          "output_type": "execute_result",
          "data": {
            "text/plain": [
              "array([1. , 2.3, 4. ], dtype=float32)"
            ]
          },
          "metadata": {},
          "execution_count": 18
        }
      ]
    },
    {
      "cell_type": "markdown",
      "metadata": {
        "id": "uNC64JoXvqcd"
      },
      "source": [
        "- reshape"
      ]
    },
    {
      "cell_type": "code",
      "metadata": {
        "colab": {
          "base_uri": "https://localhost:8080/"
        },
        "id": "4kmcoRNrvMKl",
        "outputId": "b8236d59-6534-491e-8bee-820369bf40ed"
      },
      "source": [
        "t.reshape(4,6)"
      ],
      "execution_count": 19,
      "outputs": [
        {
          "output_type": "execute_result",
          "data": {
            "text/plain": [
              "array([[ 0,  1,  2,  3,  4,  5],\n",
              "       [ 6,  7,  8,  9, 10, 11],\n",
              "       [12, 13, 14, 15, 16, 17],\n",
              "       [18, 19, 20, 21, 22, 23]])"
            ]
          },
          "metadata": {},
          "execution_count": 19
        }
      ]
    },
    {
      "cell_type": "code",
      "metadata": {
        "colab": {
          "base_uri": "https://localhost:8080/"
        },
        "id": "J9x80EIiv4dW",
        "outputId": "e55b8623-1a0a-44a3-aae5-0eaf0cbdae60"
      },
      "source": [
        "m.reshape(2,2,3)"
      ],
      "execution_count": 20,
      "outputs": [
        {
          "output_type": "execute_result",
          "data": {
            "text/plain": [
              "array([[[1, 2, 5],\n",
              "        [8, 2, 3]],\n",
              "\n",
              "       [[4, 9, 4],\n",
              "        [5, 6, 7]]])"
            ]
          },
          "metadata": {},
          "execution_count": 20
        }
      ]
    },
    {
      "cell_type": "code",
      "metadata": {
        "colab": {
          "base_uri": "https://localhost:8080/"
        },
        "id": "5vHlUsrdwAQx",
        "outputId": "6880f9f7-0acc-424f-8fba-5d78cb2c8075"
      },
      "source": [
        "a.reshape(1,4)"
      ],
      "execution_count": 21,
      "outputs": [
        {
          "output_type": "execute_result",
          "data": {
            "text/plain": [
              "array([[1, 4, 5, 8]])"
            ]
          },
          "metadata": {},
          "execution_count": 21
        }
      ]
    },
    {
      "cell_type": "code",
      "metadata": {
        "colab": {
          "base_uri": "https://localhost:8080/"
        },
        "id": "lGqkIr40wRBX",
        "outputId": "9b717c2a-49f8-4db6-d7d3-292fc64be925"
      },
      "source": [
        "a.reshape(4,1)"
      ],
      "execution_count": 22,
      "outputs": [
        {
          "output_type": "execute_result",
          "data": {
            "text/plain": [
              "array([[1],\n",
              "       [4],\n",
              "       [5],\n",
              "       [8]])"
            ]
          },
          "metadata": {},
          "execution_count": 22
        }
      ]
    },
    {
      "cell_type": "code",
      "metadata": {
        "colab": {
          "base_uri": "https://localhost:8080/"
        },
        "id": "OUv_RQxjwW9H",
        "outputId": "ac981996-e664-411a-9cd0-af356f1d6ddc"
      },
      "source": [
        "a.reshape(-1,1)"
      ],
      "execution_count": 23,
      "outputs": [
        {
          "output_type": "execute_result",
          "data": {
            "text/plain": [
              "array([[1],\n",
              "       [4],\n",
              "       [5],\n",
              "       [8]])"
            ]
          },
          "metadata": {},
          "execution_count": 23
        }
      ]
    },
    {
      "cell_type": "code",
      "metadata": {
        "colab": {
          "base_uri": "https://localhost:8080/"
        },
        "id": "MuVjuTpXwsnP",
        "outputId": "911237ba-3906-4337-9530-ebe5b0dcc517"
      },
      "source": [
        "m.reshape(-1)"
      ],
      "execution_count": 24,
      "outputs": [
        {
          "output_type": "execute_result",
          "data": {
            "text/plain": [
              "array([1, 2, 5, 8, 2, 3, 4, 9, 4, 5, 6, 7])"
            ]
          },
          "metadata": {},
          "execution_count": 24
        }
      ]
    },
    {
      "cell_type": "code",
      "metadata": {
        "colab": {
          "base_uri": "https://localhost:8080/"
        },
        "id": "0ay4G0Ubw3Kt",
        "outputId": "bfc62054-36e5-45ad-84b9-b38fc416276b"
      },
      "source": [
        "m.flatten()"
      ],
      "execution_count": 25,
      "outputs": [
        {
          "output_type": "execute_result",
          "data": {
            "text/plain": [
              "array([1, 2, 5, 8, 2, 3, 4, 9, 4, 5, 6, 7])"
            ]
          },
          "metadata": {},
          "execution_count": 25
        }
      ]
    },
    {
      "cell_type": "markdown",
      "metadata": {
        "id": "jm0Vd1bDw_3m"
      },
      "source": [
        "### 2. Indexing & Slicing"
      ]
    },
    {
      "cell_type": "code",
      "metadata": {
        "colab": {
          "base_uri": "https://localhost:8080/"
        },
        "id": "dkZ2Mvwnw5rC",
        "outputId": "9875aeac-13e4-42a4-b80d-bcee627a3d39"
      },
      "source": [
        "a[0], a[-1]"
      ],
      "execution_count": 26,
      "outputs": [
        {
          "output_type": "execute_result",
          "data": {
            "text/plain": [
              "(1, 8)"
            ]
          },
          "metadata": {},
          "execution_count": 26
        }
      ]
    },
    {
      "cell_type": "code",
      "metadata": {
        "colab": {
          "base_uri": "https://localhost:8080/"
        },
        "id": "w22dc16YxTE4",
        "outputId": "70b68f99-7cf4-4fe4-b1d4-4561b8e2ea1e"
      },
      "source": [
        "m"
      ],
      "execution_count": 27,
      "outputs": [
        {
          "output_type": "execute_result",
          "data": {
            "text/plain": [
              "array([[1, 2, 5, 8],\n",
              "       [2, 3, 4, 9],\n",
              "       [4, 5, 6, 7]])"
            ]
          },
          "metadata": {},
          "execution_count": 27
        }
      ]
    },
    {
      "cell_type": "code",
      "metadata": {
        "colab": {
          "base_uri": "https://localhost:8080/"
        },
        "id": "M9RHvI2pxXyl",
        "outputId": "c839a7ec-2085-4a6d-e8ad-3a5de06cefae"
      },
      "source": [
        "m[1][1], m[1,1]"
      ],
      "execution_count": 28,
      "outputs": [
        {
          "output_type": "execute_result",
          "data": {
            "text/plain": [
              "(3, 3)"
            ]
          },
          "metadata": {},
          "execution_count": 28
        }
      ]
    },
    {
      "cell_type": "markdown",
      "metadata": {
        "id": "-ocTL8Wg1wm5"
      },
      "source": [
        "- 슬라이싱: 2차원 이상도 가능"
      ]
    },
    {
      "cell_type": "code",
      "metadata": {
        "colab": {
          "base_uri": "https://localhost:8080/"
        },
        "id": "MIHkk_TOxexg",
        "outputId": "8ebbff02-7810-4243-8cae-2af602234ac1"
      },
      "source": [
        "m[0:2, 0:2]"
      ],
      "execution_count": 29,
      "outputs": [
        {
          "output_type": "execute_result",
          "data": {
            "text/plain": [
              "array([[1, 2],\n",
              "       [2, 3]])"
            ]
          },
          "metadata": {},
          "execution_count": 29
        }
      ]
    },
    {
      "cell_type": "code",
      "metadata": {
        "colab": {
          "base_uri": "https://localhost:8080/"
        },
        "id": "y57I8Y2X1_eG",
        "outputId": "314860bc-5c2d-423b-aa21-46632e1379f5"
      },
      "source": [
        "m[:2, :2]"
      ],
      "execution_count": 30,
      "outputs": [
        {
          "output_type": "execute_result",
          "data": {
            "text/plain": [
              "array([[1, 2],\n",
              "       [2, 3]])"
            ]
          },
          "metadata": {},
          "execution_count": 30
        }
      ]
    },
    {
      "cell_type": "code",
      "metadata": {
        "colab": {
          "base_uri": "https://localhost:8080/"
        },
        "id": "6timxZdZ2CuX",
        "outputId": "cec9d7f9-4a90-44e1-e008-9c4a125985f0"
      },
      "source": [
        "m[1:, 2:]"
      ],
      "execution_count": 31,
      "outputs": [
        {
          "output_type": "execute_result",
          "data": {
            "text/plain": [
              "array([[4, 9],\n",
              "       [6, 7]])"
            ]
          },
          "metadata": {},
          "execution_count": 31
        }
      ]
    },
    {
      "cell_type": "code",
      "metadata": {
        "colab": {
          "base_uri": "https://localhost:8080/"
        },
        "id": "qtJqE8st2Kw2",
        "outputId": "df9ce4b9-a246-48a4-d0d4-82cd812eba07"
      },
      "source": [
        "m[:, ::2]"
      ],
      "execution_count": 32,
      "outputs": [
        {
          "output_type": "execute_result",
          "data": {
            "text/plain": [
              "array([[1, 5],\n",
              "       [2, 4],\n",
              "       [4, 6]])"
            ]
          },
          "metadata": {},
          "execution_count": 32
        }
      ]
    },
    {
      "cell_type": "code",
      "metadata": {
        "colab": {
          "base_uri": "https://localhost:8080/"
        },
        "id": "_XXdNOb32U97",
        "outputId": "433c7f42-6cf4-4410-89dc-274ac231c3e0"
      },
      "source": [
        "# 행내에서 거꾸로\n",
        "m[:, ::-1]"
      ],
      "execution_count": 33,
      "outputs": [
        {
          "output_type": "execute_result",
          "data": {
            "text/plain": [
              "array([[8, 5, 2, 1],\n",
              "       [9, 4, 3, 2],\n",
              "       [7, 6, 5, 4]])"
            ]
          },
          "metadata": {},
          "execution_count": 33
        }
      ]
    },
    {
      "cell_type": "markdown",
      "metadata": {
        "id": "hTnNxcjS23uE"
      },
      "source": [
        "### 3. Creation"
      ]
    },
    {
      "cell_type": "markdown",
      "metadata": {
        "id": "ml1ai2AI27b9"
      },
      "source": [
        "- arange"
      ]
    },
    {
      "cell_type": "code",
      "metadata": {
        "colab": {
          "base_uri": "https://localhost:8080/"
        },
        "id": "zYfkatDc2nls",
        "outputId": "acd2be1e-8185-41cd-cb2f-80d3372317be"
      },
      "source": [
        "np.arange(6).reshape(2,3)"
      ],
      "execution_count": 34,
      "outputs": [
        {
          "output_type": "execute_result",
          "data": {
            "text/plain": [
              "array([[0, 1, 2],\n",
              "       [3, 4, 5]])"
            ]
          },
          "metadata": {},
          "execution_count": 34
        }
      ]
    },
    {
      "cell_type": "code",
      "metadata": {
        "colab": {
          "base_uri": "https://localhost:8080/"
        },
        "id": "Xcr50bZq3EHG",
        "outputId": "16d3e3be-6551-49c3-8942-86a51623fbda"
      },
      "source": [
        "np.arange(1,24,2).reshape(3,4)"
      ],
      "execution_count": 36,
      "outputs": [
        {
          "output_type": "execute_result",
          "data": {
            "text/plain": [
              "array([[ 1,  3,  5,  7],\n",
              "       [ 9, 11, 13, 15],\n",
              "       [17, 19, 21, 23]])"
            ]
          },
          "metadata": {},
          "execution_count": 36
        }
      ]
    },
    {
      "cell_type": "code",
      "metadata": {
        "colab": {
          "base_uri": "https://localhost:8080/"
        },
        "id": "KUBKf-6X3Nqf",
        "outputId": "4318dfc0-f3dc-4fda-eacf-a3a71a37de95"
      },
      "source": [
        "np.arange(1, 4.1, 0.5)          # 실수도 가능"
      ],
      "execution_count": 37,
      "outputs": [
        {
          "output_type": "execute_result",
          "data": {
            "text/plain": [
              "array([1. , 1.5, 2. , 2.5, 3. , 3.5, 4. ])"
            ]
          },
          "metadata": {},
          "execution_count": 37
        }
      ]
    },
    {
      "cell_type": "code",
      "metadata": {
        "colab": {
          "base_uri": "https://localhost:8080/"
        },
        "id": "p2ROS9J13daT",
        "outputId": "75e90906-b394-426b-ddff-4587509d40e3"
      },
      "source": [
        "list_a = np.arange(1, 4.1, 0.5).tolist()    # list(np.arange(1, 4.1, 0.5))\n",
        "list_a"
      ],
      "execution_count": 39,
      "outputs": [
        {
          "output_type": "execute_result",
          "data": {
            "text/plain": [
              "[1.0, 1.5, 2.0, 2.5, 3.0, 3.5, 4.0]"
            ]
          },
          "metadata": {},
          "execution_count": 39
        }
      ]
    },
    {
      "cell_type": "code",
      "metadata": {
        "colab": {
          "base_uri": "https://localhost:8080/",
          "height": 265
        },
        "id": "HBiCMqzZ34U4",
        "outputId": "001e7eff-0611-4083-8b34-b701572dbdbd"
      },
      "source": [
        "import matplotlib.pyplot as plt\n",
        "xs = [0,1,2,3]\n",
        "ys = [0,1,4,9]\n",
        "plt.plot(xs, ys)\n",
        "plt.grid()\n",
        "plt.show()"
      ],
      "execution_count": 41,
      "outputs": [
        {
          "output_type": "display_data",
          "data": {
            "image/png": "[encoded data removed]",
            "text/plain": [
              "<Figure size 432x288 with 1 Axes>"
            ]
          },
          "metadata": {
            "needs_background": "light"
          }
        }
      ]
    },
    {
      "cell_type": "code",
      "metadata": {
        "colab": {
          "base_uri": "https://localhost:8080/",
          "height": 265
        },
        "id": "8bI0D1nE4Wj6",
        "outputId": "71912025-0cbc-48b5-c972-b9479c7b10a5"
      },
      "source": [
        "xs = np.arange(0,3.01,0.01)\n",
        "ys = xs * xs\n",
        "plt.plot(xs, ys)\n",
        "plt.grid()\n",
        "plt.show()"
      ],
      "execution_count": 42,
      "outputs": [
        {
          "output_type": "display_data",
          "data": {
            "image/png": "[encoded data removed]",
            "text/plain": [
              "<Figure size 432x288 with 1 Axes>"
            ]
          },
          "metadata": {
            "needs_background": "light"
          }
        }
      ]
    },
    {
      "cell_type": "code",
      "metadata": {
        "colab": {
          "base_uri": "https://localhost:8080/",
          "height": 265
        },
        "id": "ogeWQrLb4nwo",
        "outputId": "0cc58c7d-82c6-4e1b-f32a-a5d165d3aa70"
      },
      "source": [
        "xs = np.linspace(0, 3, 300)\n",
        "ys = xs * xs\n",
        "plt.plot(xs, ys)\n",
        "plt.grid()\n",
        "plt.show() "
      ],
      "execution_count": 43,
      "outputs": [
        {
          "output_type": "display_data",
          "data": {
            "image/png": "[encoded data removed]",
            "text/plain": [
              "<Figure size 432x288 with 1 Axes>"
            ]
          },
          "metadata": {
            "needs_background": "light"
          }
        }
      ]
    },
    {
      "cell_type": "markdown",
      "metadata": {
        "id": "csSe2ZM14_sa"
      },
      "source": [
        "- ones, zeros, empty"
      ]
    },
    {
      "cell_type": "code",
      "metadata": {
        "colab": {
          "base_uri": "https://localhost:8080/"
        },
        "id": "8ZqTMYYl46T6",
        "outputId": "17112e8e-22df-4b86-dc65-36b3d7da7f26"
      },
      "source": [
        "np.ones(10)"
      ],
      "execution_count": 44,
      "outputs": [
        {
          "output_type": "execute_result",
          "data": {
            "text/plain": [
              "array([1., 1., 1., 1., 1., 1., 1., 1., 1., 1.])"
            ]
          },
          "metadata": {},
          "execution_count": 44
        }
      ]
    },
    {
      "cell_type": "code",
      "metadata": {
        "colab": {
          "base_uri": "https://localhost:8080/"
        },
        "id": "4Y8lnvN35I-f",
        "outputId": "c77394db-bede-4d91-a943-0d76561aaf2e"
      },
      "source": [
        "np.ones((2,4), dtype=np.uint8)"
      ],
      "execution_count": 45,
      "outputs": [
        {
          "output_type": "execute_result",
          "data": {
            "text/plain": [
              "array([[1, 1, 1, 1],\n",
              "       [1, 1, 1, 1]], dtype=uint8)"
            ]
          },
          "metadata": {},
          "execution_count": 45
        }
      ]
    },
    {
      "cell_type": "code",
      "metadata": {
        "colab": {
          "base_uri": "https://localhost:8080/"
        },
        "id": "LmZRZVms5TBP",
        "outputId": "0add07e1-4255-4bce-99ee-e2b47ff635b5"
      },
      "source": [
        "np.zeros((2,4))"
      ],
      "execution_count": 46,
      "outputs": [
        {
          "output_type": "execute_result",
          "data": {
            "text/plain": [
              "array([[0., 0., 0., 0.],\n",
              "       [0., 0., 0., 0.]])"
            ]
          },
          "metadata": {},
          "execution_count": 46
        }
      ]
    },
    {
      "cell_type": "code",
      "metadata": {
        "colab": {
          "base_uri": "https://localhost:8080/"
        },
        "id": "84y_Jogv5fsm",
        "outputId": "e196a713-6b11-4908-8dac-d55b0ecf8e83"
      },
      "source": [
        "np.empty(4)"
      ],
      "execution_count": 47,
      "outputs": [
        {
          "output_type": "execute_result",
          "data": {
            "text/plain": [
              "array([ 54.  ,  36.  , 388.8 , 253.44])"
            ]
          },
          "metadata": {},
          "execution_count": 47
        }
      ]
    },
    {
      "cell_type": "code",
      "metadata": {
        "colab": {
          "base_uri": "https://localhost:8080/"
        },
        "id": "aFGjPoNH5mre",
        "outputId": "011fa4a6-0ef4-4181-b574-4eb06083ef9d"
      },
      "source": [
        "# np.ones(4)\n",
        "a = np.empty(4)\n",
        "a[:] = 1\n",
        "a"
      ],
      "execution_count": 48,
      "outputs": [
        {
          "output_type": "execute_result",
          "data": {
            "text/plain": [
              "array([1., 1., 1., 1.])"
            ]
          },
          "metadata": {},
          "execution_count": 48
        }
      ]
    },
    {
      "cell_type": "markdown",
      "metadata": {
        "id": "j7E-zvGA6DeQ"
      },
      "source": [
        "- identity"
      ]
    },
    {
      "cell_type": "code",
      "metadata": {
        "colab": {
          "base_uri": "https://localhost:8080/"
        },
        "id": "TUyYY5Jg5z_A",
        "outputId": "9a1f855b-03a3-4362-b3b9-43b1a19fdeee"
      },
      "source": [
        "np.identity(3)"
      ],
      "execution_count": 49,
      "outputs": [
        {
          "output_type": "execute_result",
          "data": {
            "text/plain": [
              "array([[1., 0., 0.],\n",
              "       [0., 1., 0.],\n",
              "       [0., 0., 1.]])"
            ]
          },
          "metadata": {},
          "execution_count": 49
        }
      ]
    },
    {
      "cell_type": "code",
      "metadata": {
        "colab": {
          "base_uri": "https://localhost:8080/"
        },
        "id": "JRdLhEDI6X1B",
        "outputId": "1cdc5270-deaf-4cda-fd62-9f1d9f64b992"
      },
      "source": [
        "np.identity(n=2, dtype=np.int16)"
      ],
      "execution_count": 50,
      "outputs": [
        {
          "output_type": "execute_result",
          "data": {
            "text/plain": [
              "array([[1, 0],\n",
              "       [0, 1]], dtype=int16)"
            ]
          },
          "metadata": {},
          "execution_count": 50
        }
      ]
    },
    {
      "cell_type": "markdown",
      "metadata": {
        "id": "7cAXbIb16j7V"
      },
      "source": [
        "- eye"
      ]
    },
    {
      "cell_type": "code",
      "metadata": {
        "colab": {
          "base_uri": "https://localhost:8080/"
        },
        "id": "JvEMTmlB6dn4",
        "outputId": "b0d2ad7f-65b2-4ad8-b75a-4c69ae48e224"
      },
      "source": [
        "np.eye(N=3, M=5)"
      ],
      "execution_count": 51,
      "outputs": [
        {
          "output_type": "execute_result",
          "data": {
            "text/plain": [
              "array([[1., 0., 0., 0., 0.],\n",
              "       [0., 1., 0., 0., 0.],\n",
              "       [0., 0., 1., 0., 0.]])"
            ]
          },
          "metadata": {},
          "execution_count": 51
        }
      ]
    },
    {
      "cell_type": "code",
      "metadata": {
        "colab": {
          "base_uri": "https://localhost:8080/"
        },
        "id": "9I7JD0km6zLu",
        "outputId": "57da9c23-944c-43c3-b599-03f5f33aaea1"
      },
      "source": [
        "np.eye(3, 5, k=2)"
      ],
      "execution_count": 52,
      "outputs": [
        {
          "output_type": "execute_result",
          "data": {
            "text/plain": [
              "array([[0., 0., 1., 0., 0.],\n",
              "       [0., 0., 0., 1., 0.],\n",
              "       [0., 0., 0., 0., 1.]])"
            ]
          },
          "metadata": {},
          "execution_count": 52
        }
      ]
    },
    {
      "cell_type": "code",
      "metadata": {
        "colab": {
          "base_uri": "https://localhost:8080/"
        },
        "id": "5KkR8RA669lR",
        "outputId": "107a248c-08b0-4905-a0ae-e384c922016f"
      },
      "source": [
        "np.eye(3, 5, k=-1, dtype=np.int16)"
      ],
      "execution_count": 53,
      "outputs": [
        {
          "output_type": "execute_result",
          "data": {
            "text/plain": [
              "array([[0, 0, 0, 0, 0],\n",
              "       [1, 0, 0, 0, 0],\n",
              "       [0, 1, 0, 0, 0]], dtype=int16)"
            ]
          },
          "metadata": {},
          "execution_count": 53
        }
      ]
    },
    {
      "cell_type": "markdown",
      "metadata": {
        "id": "bey2O0og7KrU"
      },
      "source": [
        "- random sampling"
      ]
    },
    {
      "cell_type": "code",
      "metadata": {
        "colab": {
          "base_uri": "https://localhost:8080/"
        },
        "id": "2SKRqpOk7F6_",
        "outputId": "c5723e89-c2d6-47d8-ef2e-85b44a0a19a3"
      },
      "source": [
        "np.random.seed(2021)\n",
        "np.random.uniform(0, 1, 10).reshape(2,5)        # 0 ~ 1 균등분포"
      ],
      "execution_count": 55,
      "outputs": [
        {
          "output_type": "execute_result",
          "data": {
            "text/plain": [
              "array([[0.60597828, 0.73336936, 0.13894716, 0.31267308, 0.99724328],\n",
              "       [0.12816238, 0.17899311, 0.75292543, 0.66216051, 0.78431013]])"
            ]
          },
          "metadata": {},
          "execution_count": 55
        }
      ]
    },
    {
      "cell_type": "code",
      "metadata": {
        "colab": {
          "base_uri": "https://localhost:8080/"
        },
        "id": "SxuusTpm7dfa",
        "outputId": "5a636db0-9a5c-465b-845c-3fd33348b210"
      },
      "source": [
        "np.random.seed(2021)\n",
        "np.random.rand(10).reshape(2,5)"
      ],
      "execution_count": 57,
      "outputs": [
        {
          "output_type": "execute_result",
          "data": {
            "text/plain": [
              "array([[0.60597828, 0.73336936, 0.13894716, 0.31267308, 0.99724328],\n",
              "       [0.12816238, 0.17899311, 0.75292543, 0.66216051, 0.78431013]])"
            ]
          },
          "metadata": {},
          "execution_count": 57
        }
      ]
    },
    {
      "cell_type": "code",
      "metadata": {
        "colab": {
          "base_uri": "https://localhost:8080/"
        },
        "id": "jS3dWPOs7nsF",
        "outputId": "fb606bcc-6a50-4f23-c9bf-cae420f8aeb5"
      },
      "source": [
        "np.random.seed(2021)\n",
        "np.random.normal(0, 1, 10).reshape(2,5)         # N(0, 1) 정규분포"
      ],
      "execution_count": 58,
      "outputs": [
        {
          "output_type": "execute_result",
          "data": {
            "text/plain": [
              "array([[ 1.48860905,  0.67601087, -0.41845137, -0.80652081,  0.55587583],\n",
              "       [-0.70550429,  1.13085826,  0.64500184,  0.10641374,  0.42215483]])"
            ]
          },
          "metadata": {},
          "execution_count": 58
        }
      ]
    },
    {
      "cell_type": "code",
      "metadata": {
        "colab": {
          "base_uri": "https://localhost:8080/"
        },
        "id": "oPc5uqyo8Dm6",
        "outputId": "d94aaf9b-888d-40b2-fc19-ef7676f8d22e"
      },
      "source": [
        "np.random.seed(2021)\n",
        "np.random.randn(10).reshape(2,5)                # 표준정규분포"
      ],
      "execution_count": 59,
      "outputs": [
        {
          "output_type": "execute_result",
          "data": {
            "text/plain": [
              "array([[ 1.48860905,  0.67601087, -0.41845137, -0.80652081,  0.55587583],\n",
              "       [-0.70550429,  1.13085826,  0.64500184,  0.10641374,  0.42215483]])"
            ]
          },
          "metadata": {},
          "execution_count": 59
        }
      ]
    },
    {
      "cell_type": "code",
      "metadata": {
        "id": "xswQnfN18T42"
      },
      "source": [
        ""
      ],
      "execution_count": null,
      "outputs": []
    }
  ]
}
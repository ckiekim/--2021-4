{
  "nbformat": 4,
  "nbformat_minor": 0,
  "metadata": {
    "colab": {
      "name": "01_Numpy.ipynb",
      "provenance": []
    },
    "kernelspec": {
      "name": "python3",
      "display_name": "Python 3"
    },
    "language_info": {
      "name": "python"
    }
  },
  "cells": [
    {
      "cell_type": "markdown",
      "metadata": {
        "id": "I6DGhRMQpZZD"
      },
      "source": [
        "# 넘파이(Numpy: Numerical Python)"
      ]
    },
    {
      "cell_type": "code",
      "metadata": {
        "id": "DlpJW4XjpNj-"
      },
      "source": [
        "import numpy as np          # de facto standard"
      ],
      "execution_count": 2,
      "outputs": []
    },
    {
      "cell_type": "markdown",
      "metadata": {
        "id": "jnkU9IgurraI"
      },
      "source": [
        "### 1. ndarray(Numpy N-Dimensional Array)"
      ]
    },
    {
      "cell_type": "code",
      "metadata": {
        "colab": {
          "base_uri": "https://localhost:8080/"
        },
        "id": "zPhNJaubrqTP",
        "outputId": "a889a4ad-ac57-4bc7-a8ee-dc03e4b0cf48"
      },
      "source": [
        "a = np.array([1,4,5,8], dtype=np.int32)     \n",
        "a"
      ],
      "execution_count": 3,
      "outputs": [
        {
          "output_type": "execute_result",
          "data": {
            "text/plain": [
              "array([1, 4, 5, 8], dtype=int32)"
            ]
          },
          "metadata": {},
          "execution_count": 3
        }
      ]
    },
    {
      "cell_type": "code",
      "metadata": {
        "colab": {
          "base_uri": "https://localhost:8080/"
        },
        "id": "lod08cvgsLmM",
        "outputId": "5af2a986-d9b2-4131-a89e-f91796736a4c"
      },
      "source": [
        "a.dtype         # int16, int32, int64, uint8, uint16, ..."
      ],
      "execution_count": 4,
      "outputs": [
        {
          "output_type": "execute_result",
          "data": {
            "text/plain": [
              "dtype('int32')"
            ]
          },
          "metadata": {},
          "execution_count": 4
        }
      ]
    },
    {
      "cell_type": "code",
      "metadata": {
        "colab": {
          "base_uri": "https://localhost:8080/"
        },
        "id": "3Dq5VCJ8sV5s",
        "outputId": "6f20d99d-98fc-4070-9d10-323765018bf0"
      },
      "source": [
        "a.shape         # tuple로 보여줌"
      ],
      "execution_count": 5,
      "outputs": [
        {
          "output_type": "execute_result",
          "data": {
            "text/plain": [
              "(4,)"
            ]
          },
          "metadata": {},
          "execution_count": 5
        }
      ]
    },
    {
      "cell_type": "markdown",
      "metadata": {
        "id": "0e15SQHKtFym"
      },
      "source": [
        "- Vector (1차원)"
      ]
    },
    {
      "cell_type": "code",
      "metadata": {
        "colab": {
          "base_uri": "https://localhost:8080/"
        },
        "id": "Ymv6xksmsrEz",
        "outputId": "a785b0cb-370a-45ae-fc87-b8c9d9681898"
      },
      "source": [
        "a = np.array([1,4,5,8])\n",
        "a"
      ],
      "execution_count": 6,
      "outputs": [
        {
          "output_type": "execute_result",
          "data": {
            "text/plain": [
              "array([1, 4, 5, 8])"
            ]
          },
          "metadata": {},
          "execution_count": 6
        }
      ]
    },
    {
      "cell_type": "markdown",
      "metadata": {
        "id": "Why5CDsktQoJ"
      },
      "source": [
        "- Matrix (2차원)"
      ]
    },
    {
      "cell_type": "code",
      "metadata": {
        "colab": {
          "base_uri": "https://localhost:8080/"
        },
        "id": "xdzSYyOvtMhg",
        "outputId": "b666378a-e258-4bd6-e9bf-deb03e12fc26"
      },
      "source": [
        "m = [[1,2,5,8], [2,3,4,9], [4,5,6,7]]\n",
        "m = np.array(m)\n",
        "m"
      ],
      "execution_count": 9,
      "outputs": [
        {
          "output_type": "execute_result",
          "data": {
            "text/plain": [
              "array([[1, 2, 5, 8],\n",
              "       [2, 3, 4, 9],\n",
              "       [4, 5, 6, 7]])"
            ]
          },
          "metadata": {},
          "execution_count": 9
        }
      ]
    },
    {
      "cell_type": "code",
      "metadata": {
        "colab": {
          "base_uri": "https://localhost:8080/"
        },
        "id": "aw3afBWAtZRT",
        "outputId": "11a78ef6-3953-4f72-e432-2a97ec3aee9e"
      },
      "source": [
        "m.shape, m.dtype"
      ],
      "execution_count": 11,
      "outputs": [
        {
          "output_type": "execute_result",
          "data": {
            "text/plain": [
              "((3, 4), dtype('int64'))"
            ]
          },
          "metadata": {},
          "execution_count": 11
        }
      ]
    },
    {
      "cell_type": "markdown",
      "metadata": {
        "id": "XZUk-yKWtuSY"
      },
      "source": [
        "- Tensor (3차원)"
      ]
    },
    {
      "cell_type": "code",
      "metadata": {
        "colab": {
          "base_uri": "https://localhost:8080/"
        },
        "id": "gHsWbMOUtbWT",
        "outputId": "a66be7c9-58b6-48e6-f104-3fbd8007f9ad"
      },
      "source": [
        "t = np.arange(24).reshape(2,3,4)\n",
        "t"
      ],
      "execution_count": 12,
      "outputs": [
        {
          "output_type": "execute_result",
          "data": {
            "text/plain": [
              "array([[[ 0,  1,  2,  3],\n",
              "        [ 4,  5,  6,  7],\n",
              "        [ 8,  9, 10, 11]],\n",
              "\n",
              "       [[12, 13, 14, 15],\n",
              "        [16, 17, 18, 19],\n",
              "        [20, 21, 22, 23]]])"
            ]
          },
          "metadata": {},
          "execution_count": 12
        }
      ]
    },
    {
      "cell_type": "code",
      "metadata": {
        "colab": {
          "base_uri": "https://localhost:8080/"
        },
        "id": "NDvaG-eeuEQr",
        "outputId": "7a1bf805-b222-49a7-bff4-b3fccfe138ff"
      },
      "source": [
        "t.shape, t.dtype"
      ],
      "execution_count": 13,
      "outputs": [
        {
          "output_type": "execute_result",
          "data": {
            "text/plain": [
              "((2, 3, 4), dtype('int64'))"
            ]
          },
          "metadata": {},
          "execution_count": 13
        }
      ]
    },
    {
      "cell_type": "code",
      "metadata": {
        "colab": {
          "base_uri": "https://localhost:8080/"
        },
        "id": "N1amMKcruM9D",
        "outputId": "86e1a7e8-b370-4f0d-99eb-daaf59f25500"
      },
      "source": [
        "a.ndim, m.ndim, t.ndim      # 차원"
      ],
      "execution_count": 15,
      "outputs": [
        {
          "output_type": "execute_result",
          "data": {
            "text/plain": [
              "(1, 2, 3)"
            ]
          },
          "metadata": {},
          "execution_count": 15
        }
      ]
    },
    {
      "cell_type": "code",
      "metadata": {
        "colab": {
          "base_uri": "https://localhost:8080/"
        },
        "id": "cJOZHYXcugJg",
        "outputId": "87851c69-66a5-444c-8f84-a0d57538bc7c"
      },
      "source": [
        "a.size, m.size, t.size      # 요소의 갯수"
      ],
      "execution_count": 16,
      "outputs": [
        {
          "output_type": "execute_result",
          "data": {
            "text/plain": [
              "(4, 12, 24)"
            ]
          },
          "metadata": {},
          "execution_count": 16
        }
      ]
    },
    {
      "cell_type": "markdown",
      "metadata": {
        "id": "Qcaiqr2tu6mX"
      },
      "source": [
        "- dtype"
      ]
    },
    {
      "cell_type": "code",
      "metadata": {
        "colab": {
          "base_uri": "https://localhost:8080/"
        },
        "id": "7vOADqrnur5_",
        "outputId": "6dd35abe-68a8-4de5-af72-b2a88642d562"
      },
      "source": [
        "np.array([1, 2.3, '4'])"
      ],
      "execution_count": 17,
      "outputs": [
        {
          "output_type": "execute_result",
          "data": {
            "text/plain": [
              "array(['1', '2.3', '4'], dtype='<U32')"
            ]
          },
          "metadata": {},
          "execution_count": 17
        }
      ]
    },
    {
      "cell_type": "code",
      "metadata": {
        "colab": {
          "base_uri": "https://localhost:8080/"
        },
        "id": "KR54DEqCvCyS",
        "outputId": "4ef1e1e9-902a-4227-f41c-2fa4f8059048"
      },
      "source": [
        "np.array([1, 2.3, '4'], dtype=np.float32)"
      ],
      "execution_count": 18,
      "outputs": [
        {
          "output_type": "execute_result",
          "data": {
            "text/plain": [
              "array([1. , 2.3, 4. ], dtype=float32)"
            ]
          },
          "metadata": {},
          "execution_count": 18
        }
      ]
    },
    {
      "cell_type": "markdown",
      "metadata": {
        "id": "uNC64JoXvqcd"
      },
      "source": [
        "- reshape"
      ]
    },
    {
      "cell_type": "code",
      "metadata": {
        "colab": {
          "base_uri": "https://localhost:8080/"
        },
        "id": "4kmcoRNrvMKl",
        "outputId": "b8236d59-6534-491e-8bee-820369bf40ed"
      },
      "source": [
        "t.reshape(4,6)"
      ],
      "execution_count": 19,
      "outputs": [
        {
          "output_type": "execute_result",
          "data": {
            "text/plain": [
              "array([[ 0,  1,  2,  3,  4,  5],\n",
              "       [ 6,  7,  8,  9, 10, 11],\n",
              "       [12, 13, 14, 15, 16, 17],\n",
              "       [18, 19, 20, 21, 22, 23]])"
            ]
          },
          "metadata": {},
          "execution_count": 19
        }
      ]
    },
    {
      "cell_type": "code",
      "metadata": {
        "colab": {
          "base_uri": "https://localhost:8080/"
        },
        "id": "J9x80EIiv4dW",
        "outputId": "e55b8623-1a0a-44a3-aae5-0eaf0cbdae60"
      },
      "source": [
        "m.reshape(2,2,3)"
      ],
      "execution_count": 20,
      "outputs": [
        {
          "output_type": "execute_result",
          "data": {
            "text/plain": [
              "array([[[1, 2, 5],\n",
              "        [8, 2, 3]],\n",
              "\n",
              "       [[4, 9, 4],\n",
              "        [5, 6, 7]]])"
            ]
          },
          "metadata": {},
          "execution_count": 20
        }
      ]
    },
    {
      "cell_type": "code",
      "metadata": {
        "colab": {
          "base_uri": "https://localhost:8080/"
        },
        "id": "5vHlUsrdwAQx",
        "outputId": "6880f9f7-0acc-424f-8fba-5d78cb2c8075"
      },
      "source": [
        "a.reshape(1,4)"
      ],
      "execution_count": 21,
      "outputs": [
        {
          "output_type": "execute_result",
          "data": {
            "text/plain": [
              "array([[1, 4, 5, 8]])"
            ]
          },
          "metadata": {},
          "execution_count": 21
        }
      ]
    },
    {
      "cell_type": "code",
      "metadata": {
        "colab": {
          "base_uri": "https://localhost:8080/"
        },
        "id": "lGqkIr40wRBX",
        "outputId": "9b717c2a-49f8-4db6-d7d3-292fc64be925"
      },
      "source": [
        "a.reshape(4,1)"
      ],
      "execution_count": 22,
      "outputs": [
        {
          "output_type": "execute_result",
          "data": {
            "text/plain": [
              "array([[1],\n",
              "       [4],\n",
              "       [5],\n",
              "       [8]])"
            ]
          },
          "metadata": {},
          "execution_count": 22
        }
      ]
    },
    {
      "cell_type": "code",
      "metadata": {
        "colab": {
          "base_uri": "https://localhost:8080/"
        },
        "id": "OUv_RQxjwW9H",
        "outputId": "ac981996-e664-411a-9cd0-af356f1d6ddc"
      },
      "source": [
        "a.reshape(-1,1)"
      ],
      "execution_count": 23,
      "outputs": [
        {
          "output_type": "execute_result",
          "data": {
            "text/plain": [
              "array([[1],\n",
              "       [4],\n",
              "       [5],\n",
              "       [8]])"
            ]
          },
          "metadata": {},
          "execution_count": 23
        }
      ]
    },
    {
      "cell_type": "code",
      "metadata": {
        "colab": {
          "base_uri": "https://localhost:8080/"
        },
        "id": "MuVjuTpXwsnP",
        "outputId": "911237ba-3906-4337-9530-ebe5b0dcc517"
      },
      "source": [
        "m.reshape(-1)"
      ],
      "execution_count": 24,
      "outputs": [
        {
          "output_type": "execute_result",
          "data": {
            "text/plain": [
              "array([1, 2, 5, 8, 2, 3, 4, 9, 4, 5, 6, 7])"
            ]
          },
          "metadata": {},
          "execution_count": 24
        }
      ]
    },
    {
      "cell_type": "code",
      "metadata": {
        "colab": {
          "base_uri": "https://localhost:8080/"
        },
        "id": "0ay4G0Ubw3Kt",
        "outputId": "bfc62054-36e5-45ad-84b9-b38fc416276b"
      },
      "source": [
        "m.flatten()"
      ],
      "execution_count": 25,
      "outputs": [
        {
          "output_type": "execute_result",
          "data": {
            "text/plain": [
              "array([1, 2, 5, 8, 2, 3, 4, 9, 4, 5, 6, 7])"
            ]
          },
          "metadata": {},
          "execution_count": 25
        }
      ]
    },
    {
      "cell_type": "markdown",
      "metadata": {
        "id": "jm0Vd1bDw_3m"
      },
      "source": [
        "### 2. Indexing & Slicing"
      ]
    },
    {
      "cell_type": "code",
      "metadata": {
        "colab": {
          "base_uri": "https://localhost:8080/"
        },
        "id": "dkZ2Mvwnw5rC",
        "outputId": "9875aeac-13e4-42a4-b80d-bcee627a3d39"
      },
      "source": [
        "a[0], a[-1]"
      ],
      "execution_count": 26,
      "outputs": [
        {
          "output_type": "execute_result",
          "data": {
            "text/plain": [
              "(1, 8)"
            ]
          },
          "metadata": {},
          "execution_count": 26
        }
      ]
    },
    {
      "cell_type": "code",
      "metadata": {
        "colab": {
          "base_uri": "https://localhost:8080/"
        },
        "id": "w22dc16YxTE4",
        "outputId": "70b68f99-7cf4-4fe4-b1d4-4561b8e2ea1e"
      },
      "source": [
        "m"
      ],
      "execution_count": 27,
      "outputs": [
        {
          "output_type": "execute_result",
          "data": {
            "text/plain": [
              "array([[1, 2, 5, 8],\n",
              "       [2, 3, 4, 9],\n",
              "       [4, 5, 6, 7]])"
            ]
          },
          "metadata": {},
          "execution_count": 27
        }
      ]
    },
    {
      "cell_type": "code",
      "metadata": {
        "colab": {
          "base_uri": "https://localhost:8080/"
        },
        "id": "M9RHvI2pxXyl",
        "outputId": "c839a7ec-2085-4a6d-e8ad-3a5de06cefae"
      },
      "source": [
        "m[1][1], m[1,1]"
      ],
      "execution_count": 28,
      "outputs": [
        {
          "output_type": "execute_result",
          "data": {
            "text/plain": [
              "(3, 3)"
            ]
          },
          "metadata": {},
          "execution_count": 28
        }
      ]
    },
    {
      "cell_type": "code",
      "metadata": {
        "id": "MIHkk_TOxexg"
      },
      "source": [
        ""
      ],
      "execution_count": null,
      "outputs": []
    }
  ]
}
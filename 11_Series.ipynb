{
  "nbformat": 4,
  "nbformat_minor": 0,
  "metadata": {
    "colab": {
      "name": "11_Series.ipynb",
      "provenance": [],
      "collapsed_sections": []
    },
    "kernelspec": {
      "name": "python3",
      "display_name": "Python 3"
    },
    "language_info": {
      "name": "python"
    }
  },
  "cells": [
    {
      "cell_type": "markdown",
      "metadata": {
        "id": "o0SmDO9whd5Q"
      },
      "source": [
        "# Pandas - Series"
      ]
    },
    {
      "cell_type": "code",
      "metadata": {
        "id": "LeZfJBpwhX3H"
      },
      "source": [
        "import numpy as np\n",
        "import pandas as pd"
      ],
      "execution_count": 1,
      "outputs": []
    },
    {
      "cell_type": "markdown",
      "metadata": {
        "id": "j8SnDRDAjs6-"
      },
      "source": [
        "- 생성"
      ]
    },
    {
      "cell_type": "code",
      "metadata": {
        "colab": {
          "base_uri": "https://localhost:8080/"
        },
        "id": "LEAktMRYjsO0",
        "outputId": "a98f4d7b-290f-4fd2-f267-cac3d70f137e"
      },
      "source": [
        "s = pd.Series([9904312, 3448737, 2890451, 2466052],\n",
        "              index=[\"서울\", \"부산\", \"인천\", \"대구\"])\n",
        "s"
      ],
      "execution_count": 2,
      "outputs": [
        {
          "output_type": "execute_result",
          "data": {
            "text/plain": [
              "서울    9904312\n",
              "부산    3448737\n",
              "인천    2890451\n",
              "대구    2466052\n",
              "dtype: int64"
            ]
          },
          "metadata": {},
          "execution_count": 2
        }
      ]
    },
    {
      "cell_type": "code",
      "metadata": {
        "colab": {
          "base_uri": "https://localhost:8080/"
        },
        "id": "Y56xeCQjhqQG",
        "outputId": "e1b1b533-6267-42e0-b463-5d92ba365473"
      },
      "source": [
        "tmp = pd.Series(np.random.randint(40, 100, 5))\n",
        "tmp"
      ],
      "execution_count": 5,
      "outputs": [
        {
          "output_type": "execute_result",
          "data": {
            "text/plain": [
              "0    41\n",
              "1    77\n",
              "2    67\n",
              "3    61\n",
              "4    68\n",
              "dtype: int64"
            ]
          },
          "metadata": {},
          "execution_count": 5
        }
      ]
    },
    {
      "cell_type": "code",
      "metadata": {
        "colab": {
          "base_uri": "https://localhost:8080/"
        },
        "id": "2lIk3Z6xkROB",
        "outputId": "885dcbc9-e788-455b-814c-8550a93672ca"
      },
      "source": [
        "tmp.index = list('abcde')\n",
        "tmp"
      ],
      "execution_count": 6,
      "outputs": [
        {
          "output_type": "execute_result",
          "data": {
            "text/plain": [
              "a    41\n",
              "b    77\n",
              "c    67\n",
              "d    61\n",
              "e    68\n",
              "dtype: int64"
            ]
          },
          "metadata": {},
          "execution_count": 6
        }
      ]
    },
    {
      "cell_type": "markdown",
      "metadata": {
        "id": "rpIBNZ2RksOK"
      },
      "source": [
        "- indexing"
      ]
    },
    {
      "cell_type": "code",
      "metadata": {
        "colab": {
          "base_uri": "https://localhost:8080/"
        },
        "id": "P2ohsnDykZRS",
        "outputId": "414e89d1-b73f-4f83-e1d0-365a7ff4d36b"
      },
      "source": [
        "s[0], s['서울']"
      ],
      "execution_count": 7,
      "outputs": [
        {
          "output_type": "execute_result",
          "data": {
            "text/plain": [
              "(9904312, 9904312)"
            ]
          },
          "metadata": {},
          "execution_count": 7
        }
      ]
    },
    {
      "cell_type": "code",
      "metadata": {
        "colab": {
          "base_uri": "https://localhost:8080/"
        },
        "id": "nq0u8L_ekySJ",
        "outputId": "bf5983a0-e405-4c89-8ec2-2f038029375d"
      },
      "source": [
        "s[[0, 2]]"
      ],
      "execution_count": 8,
      "outputs": [
        {
          "output_type": "execute_result",
          "data": {
            "text/plain": [
              "서울    9904312\n",
              "인천    2890451\n",
              "dtype: int64"
            ]
          },
          "metadata": {},
          "execution_count": 8
        }
      ]
    },
    {
      "cell_type": "code",
      "metadata": {
        "colab": {
          "base_uri": "https://localhost:8080/"
        },
        "id": "toaVi1fYk9yC",
        "outputId": "7238a1e0-683b-4506-9ab4-cfb37e9bc6eb"
      },
      "source": [
        "s[::2]"
      ],
      "execution_count": 9,
      "outputs": [
        {
          "output_type": "execute_result",
          "data": {
            "text/plain": [
              "서울    9904312\n",
              "인천    2890451\n",
              "dtype: int64"
            ]
          },
          "metadata": {},
          "execution_count": 9
        }
      ]
    },
    {
      "cell_type": "markdown",
      "metadata": {
        "id": "Bs9ko_KTlQUI"
      },
      "source": [
        "- 연산"
      ]
    },
    {
      "cell_type": "code",
      "metadata": {
        "colab": {
          "base_uri": "https://localhost:8080/"
        },
        "id": "QUgAu46llD1j",
        "outputId": "f44e3efb-3e13-45f0-dd3f-eea733661eea"
      },
      "source": [
        "s / 1000000"
      ],
      "execution_count": 10,
      "outputs": [
        {
          "output_type": "execute_result",
          "data": {
            "text/plain": [
              "서울    9.904312\n",
              "부산    3.448737\n",
              "인천    2.890451\n",
              "대구    2.466052\n",
              "dtype: float64"
            ]
          },
          "metadata": {},
          "execution_count": 10
        }
      ]
    },
    {
      "cell_type": "code",
      "metadata": {
        "colab": {
          "base_uri": "https://localhost:8080/"
        },
        "id": "djm15fPmlTf9",
        "outputId": "e8f7bca3-3741-4d6b-97bc-bbb15dc62ea6"
      },
      "source": [
        "s"
      ],
      "execution_count": 11,
      "outputs": [
        {
          "output_type": "execute_result",
          "data": {
            "text/plain": [
              "서울    9904312\n",
              "부산    3448737\n",
              "인천    2890451\n",
              "대구    2466052\n",
              "dtype: int64"
            ]
          },
          "metadata": {},
          "execution_count": 11
        }
      ]
    },
    {
      "cell_type": "markdown",
      "metadata": {
        "id": "9EHQcfW2lmd1"
      },
      "source": [
        "- 시리즈와 딕셔너리"
      ]
    },
    {
      "cell_type": "code",
      "metadata": {
        "colab": {
          "base_uri": "https://localhost:8080/"
        },
        "id": "xYzMnRJqldfH",
        "outputId": "124465d2-51dc-4287-cb06-908b6d0d2ca4"
      },
      "source": [
        "d = {'a':80, 'b':90, 'c':84}    \n",
        "pd.Series(d)                    # 딕셔너리의 키가 시리즈의 인덱스로 자동 전환"
      ],
      "execution_count": 12,
      "outputs": [
        {
          "output_type": "execute_result",
          "data": {
            "text/plain": [
              "a    80\n",
              "b    90\n",
              "c    84\n",
              "dtype: int64"
            ]
          },
          "metadata": {},
          "execution_count": 12
        }
      ]
    },
    {
      "cell_type": "code",
      "metadata": {
        "colab": {
          "base_uri": "https://localhost:8080/"
        },
        "id": "bxv1D01hl6RX",
        "outputId": "6e3bad0a-9830-4edf-894a-8051f1e9e3b3"
      },
      "source": [
        "for key in d.keys():\n",
        "    print(f'{key}: {d[key]}')"
      ],
      "execution_count": 13,
      "outputs": [
        {
          "output_type": "stream",
          "name": "stdout",
          "text": [
            "a: 80\n",
            "b: 90\n",
            "c: 84\n"
          ]
        }
      ]
    },
    {
      "cell_type": "code",
      "metadata": {
        "colab": {
          "base_uri": "https://localhost:8080/"
        },
        "id": "9xYCyo-VmWSK",
        "outputId": "eeedec37-4546-41d7-a092-8e4c380d18e8"
      },
      "source": [
        "for index in s.index:\n",
        "    print(f'{index}: {s[index]}')"
      ],
      "execution_count": 14,
      "outputs": [
        {
          "output_type": "stream",
          "name": "stdout",
          "text": [
            "서울: 9904312\n",
            "부산: 3448737\n",
            "인천: 2890451\n",
            "대구: 2466052\n"
          ]
        }
      ]
    },
    {
      "cell_type": "markdown",
      "metadata": {
        "id": "D0LbzuA1m5nD"
      },
      "source": [
        "- 인덱스 기반 연산"
      ]
    },
    {
      "cell_type": "code",
      "metadata": {
        "colab": {
          "base_uri": "https://localhost:8080/"
        },
        "id": "Eh8vy_eJmlZD",
        "outputId": "6414e646-2c8e-4aba-ecce-49530cad0e81"
      },
      "source": [
        "s2 = pd.Series({\"서울\":9631482,\"부산\":3393191,\"인천\":2632035,\"대전\":1490158})\n",
        "s2"
      ],
      "execution_count": 15,
      "outputs": [
        {
          "output_type": "execute_result",
          "data": {
            "text/plain": [
              "서울    9631482\n",
              "부산    3393191\n",
              "인천    2632035\n",
              "대전    1490158\n",
              "dtype: int64"
            ]
          },
          "metadata": {},
          "execution_count": 15
        }
      ]
    },
    {
      "cell_type": "code",
      "metadata": {
        "colab": {
          "base_uri": "https://localhost:8080/"
        },
        "id": "mjSAzO4nnBqv",
        "outputId": "81eddd1e-7042-462c-ef6b-d6fef6e14f96"
      },
      "source": [
        "# 인덱스값이 다르면 계산 결과가 NaN(Not a Number, 결측치)\n",
        "# np.nan, np.inf - 실수형\n",
        "ds = s - s2\n",
        "ds"
      ],
      "execution_count": 17,
      "outputs": [
        {
          "output_type": "execute_result",
          "data": {
            "text/plain": [
              "대구         NaN\n",
              "대전         NaN\n",
              "부산     55546.0\n",
              "서울    272830.0\n",
              "인천    258416.0\n",
              "dtype: float64"
            ]
          },
          "metadata": {},
          "execution_count": 17
        }
      ]
    },
    {
      "cell_type": "code",
      "metadata": {
        "colab": {
          "base_uri": "https://localhost:8080/"
        },
        "id": "A0_-1ZARnJ1O",
        "outputId": "d3328eaf-643b-4d98-ef09-cbd2fdd59b93"
      },
      "source": [
        "ds.fillna(0)"
      ],
      "execution_count": 19,
      "outputs": [
        {
          "output_type": "execute_result",
          "data": {
            "text/plain": [
              "대구         0.0\n",
              "대전         0.0\n",
              "부산     55546.0\n",
              "서울    272830.0\n",
              "인천    258416.0\n",
              "dtype: float64"
            ]
          },
          "metadata": {},
          "execution_count": 19
        }
      ]
    },
    {
      "cell_type": "code",
      "metadata": {
        "colab": {
          "base_uri": "https://localhost:8080/"
        },
        "id": "7qNo69CYoo_c",
        "outputId": "9b36a94d-fe6f-4d3d-cbd6-8098209e096b"
      },
      "source": [
        "ds"
      ],
      "execution_count": 20,
      "outputs": [
        {
          "output_type": "execute_result",
          "data": {
            "text/plain": [
              "대구         NaN\n",
              "대전         NaN\n",
              "부산     55546.0\n",
              "서울    272830.0\n",
              "인천    258416.0\n",
              "dtype: float64"
            ]
          },
          "metadata": {},
          "execution_count": 20
        }
      ]
    },
    {
      "cell_type": "code",
      "metadata": {
        "colab": {
          "base_uri": "https://localhost:8080/"
        },
        "id": "81AJgNzvowFn",
        "outputId": "a80f98af-9564-4857-d759-a596f4940462"
      },
      "source": [
        "ds.fillna(0, inplace=True)\n",
        "ds"
      ],
      "execution_count": 21,
      "outputs": [
        {
          "output_type": "execute_result",
          "data": {
            "text/plain": [
              "대구         0.0\n",
              "대전         0.0\n",
              "부산     55546.0\n",
              "서울    272830.0\n",
              "인천    258416.0\n",
              "dtype: float64"
            ]
          },
          "metadata": {},
          "execution_count": 21
        }
      ]
    },
    {
      "cell_type": "code",
      "metadata": {
        "colab": {
          "base_uri": "https://localhost:8080/"
        },
        "id": "Em3Jcph2o2je",
        "outputId": "2bceb9bd-621e-4a75-cd4a-38b9e6353c62"
      },
      "source": [
        "ds = ds.astype(int)\n",
        "ds"
      ],
      "execution_count": 24,
      "outputs": [
        {
          "output_type": "execute_result",
          "data": {
            "text/plain": [
              "대구         0\n",
              "대전         0\n",
              "부산     55546\n",
              "서울    272830\n",
              "인천    258416\n",
              "dtype: int64"
            ]
          },
          "metadata": {},
          "execution_count": 24
        }
      ]
    },
    {
      "cell_type": "markdown",
      "metadata": {
        "id": "yobzUJhgsg4-"
      },
      "source": [
        "### 속성과 메소드"
      ]
    },
    {
      "cell_type": "markdown",
      "metadata": {
        "id": "UgiI3xCVssEg"
      },
      "source": [
        "- 속성(attribute)"
      ]
    },
    {
      "cell_type": "code",
      "metadata": {
        "colab": {
          "base_uri": "https://localhost:8080/"
        },
        "id": "7h4cFp5TsGTA",
        "outputId": "620364b7-2d03-4520-b060-d48c7a263e37"
      },
      "source": [
        "s.values"
      ],
      "execution_count": 25,
      "outputs": [
        {
          "output_type": "execute_result",
          "data": {
            "text/plain": [
              "array([9904312, 3448737, 2890451, 2466052])"
            ]
          },
          "metadata": {},
          "execution_count": 25
        }
      ]
    },
    {
      "cell_type": "code",
      "metadata": {
        "colab": {
          "base_uri": "https://localhost:8080/"
        },
        "id": "PWNMSP_zsq_z",
        "outputId": "37a304f5-85c9-46f0-cbb8-b2120ddd19eb"
      },
      "source": [
        "s.index"
      ],
      "execution_count": 26,
      "outputs": [
        {
          "output_type": "execute_result",
          "data": {
            "text/plain": [
              "Index(['서울', '부산', '인천', '대구'], dtype='object')"
            ]
          },
          "metadata": {},
          "execution_count": 26
        }
      ]
    },
    {
      "cell_type": "markdown",
      "metadata": {
        "id": "9OF5m2ZXs3zw"
      },
      "source": [
        "- method"
      ]
    },
    {
      "cell_type": "code",
      "metadata": {
        "colab": {
          "base_uri": "https://localhost:8080/"
        },
        "id": "cyAMO6UusxL0",
        "outputId": "61724d01-1bc5-4f87-c579-88331a6b3de6"
      },
      "source": [
        "s.count(), len(s)       # 요소의 갯수"
      ],
      "execution_count": 27,
      "outputs": [
        {
          "output_type": "execute_result",
          "data": {
            "text/plain": [
              "(4, 4)"
            ]
          },
          "metadata": {},
          "execution_count": 27
        }
      ]
    },
    {
      "cell_type": "code",
      "metadata": {
        "colab": {
          "base_uri": "https://localhost:8080/"
        },
        "id": "NRj70WWPs7gG",
        "outputId": "83ca41b8-956c-4b75-bb35-d87bd8d2f908"
      },
      "source": [
        "# 카테고리 값 세기\n",
        "t = pd.Series(['M','M','F','F','M'])\n",
        "t.value_counts()"
      ],
      "execution_count": 28,
      "outputs": [
        {
          "output_type": "execute_result",
          "data": {
            "text/plain": [
              "M    3\n",
              "F    2\n",
              "dtype: int64"
            ]
          },
          "metadata": {},
          "execution_count": 28
        }
      ]
    },
    {
      "cell_type": "code",
      "metadata": {
        "colab": {
          "base_uri": "https://localhost:8080/"
        },
        "id": "G_JAmO7dtYkP",
        "outputId": "d2652dc7-17e5-4891-c9dd-7c59bafc991c"
      },
      "source": [
        "import seaborn as sns\n",
        "iris = sns.load_dataset('iris')\n",
        "species = iris['species']\n",
        "species.value_counts()"
      ],
      "execution_count": 29,
      "outputs": [
        {
          "output_type": "execute_result",
          "data": {
            "text/plain": [
              "versicolor    50\n",
              "virginica     50\n",
              "setosa        50\n",
              "Name: species, dtype: int64"
            ]
          },
          "metadata": {},
          "execution_count": 29
        }
      ]
    },
    {
      "cell_type": "code",
      "metadata": {
        "colab": {
          "base_uri": "https://localhost:8080/"
        },
        "id": "deX4M-YBt_Ti",
        "outputId": "2044a468-502a-49dd-c83c-3007d3950578"
      },
      "source": [
        "iris.species.value_counts()"
      ],
      "execution_count": 30,
      "outputs": [
        {
          "output_type": "execute_result",
          "data": {
            "text/plain": [
              "versicolor    50\n",
              "virginica     50\n",
              "setosa        50\n",
              "Name: species, dtype: int64"
            ]
          },
          "metadata": {},
          "execution_count": 30
        }
      ]
    },
    {
      "cell_type": "code",
      "metadata": {
        "colab": {
          "base_uri": "https://localhost:8080/"
        },
        "id": "-cSWEktGuHiz",
        "outputId": "b52cb3a2-3f96-40a4-e1c0-9a16314be19c"
      },
      "source": [
        "# 카테고리 이름\n",
        "species.unique()"
      ],
      "execution_count": 31,
      "outputs": [
        {
          "output_type": "execute_result",
          "data": {
            "text/plain": [
              "array(['setosa', 'versicolor', 'virginica'], dtype=object)"
            ]
          },
          "metadata": {},
          "execution_count": 31
        }
      ]
    },
    {
      "cell_type": "code",
      "metadata": {
        "colab": {
          "base_uri": "https://localhost:8080/"
        },
        "id": "gMNYLZf3uXaK",
        "outputId": "a936de33-86ba-4744-be8e-194de2bead37"
      },
      "source": [
        "# 카테고리 갯수\n",
        "species.nunique()"
      ],
      "execution_count": 32,
      "outputs": [
        {
          "output_type": "execute_result",
          "data": {
            "text/plain": [
              "3"
            ]
          },
          "metadata": {},
          "execution_count": 32
        }
      ]
    },
    {
      "cell_type": "code",
      "metadata": {
        "colab": {
          "base_uri": "https://localhost:8080/"
        },
        "id": "ncd1luFKulkq",
        "outputId": "ad2582bd-0cd2-4c78-cfbb-86e5d5c0f56b"
      },
      "source": [
        "# 합계, 평균\n",
        "s.sum(), s.mean()"
      ],
      "execution_count": 33,
      "outputs": [
        {
          "output_type": "execute_result",
          "data": {
            "text/plain": [
              "(18709552, 4677388.0)"
            ]
          },
          "metadata": {},
          "execution_count": 33
        }
      ]
    },
    {
      "cell_type": "code",
      "metadata": {
        "colab": {
          "base_uri": "https://localhost:8080/"
        },
        "id": "oTWdcvnBufmE",
        "outputId": "eb93249f-3e5c-427f-d443-3d92310a46c7"
      },
      "source": [
        "# 정렬(sort)\n",
        "s"
      ],
      "execution_count": 34,
      "outputs": [
        {
          "output_type": "execute_result",
          "data": {
            "text/plain": [
              "서울    9904312\n",
              "부산    3448737\n",
              "인천    2890451\n",
              "대구    2466052\n",
              "dtype: int64"
            ]
          },
          "metadata": {},
          "execution_count": 34
        }
      ]
    },
    {
      "cell_type": "code",
      "metadata": {
        "colab": {
          "base_uri": "https://localhost:8080/"
        },
        "id": "6uodH3-Zu1W9",
        "outputId": "10d01e64-2680-4c16-a8ab-6b91c86da4ff"
      },
      "source": [
        "s.sort_index()      # 오름차순, s 값은 변화없음"
      ],
      "execution_count": 35,
      "outputs": [
        {
          "output_type": "execute_result",
          "data": {
            "text/plain": [
              "대구    2466052\n",
              "부산    3448737\n",
              "서울    9904312\n",
              "인천    2890451\n",
              "dtype: int64"
            ]
          },
          "metadata": {},
          "execution_count": 35
        }
      ]
    },
    {
      "cell_type": "code",
      "metadata": {
        "colab": {
          "base_uri": "https://localhost:8080/"
        },
        "id": "bwoL3eV3vBOE",
        "outputId": "03fe4b08-ad5a-4300-8d75-7bb1d2922c64"
      },
      "source": [
        "s.sort_index(ascending=False, inplace=True)\n",
        "s"
      ],
      "execution_count": 37,
      "outputs": [
        {
          "output_type": "execute_result",
          "data": {
            "text/plain": [
              "인천    2890451\n",
              "서울    9904312\n",
              "부산    3448737\n",
              "대구    2466052\n",
              "dtype: int64"
            ]
          },
          "metadata": {},
          "execution_count": 37
        }
      ]
    },
    {
      "cell_type": "code",
      "metadata": {
        "colab": {
          "base_uri": "https://localhost:8080/"
        },
        "id": "ZJK2Ni81vC5J",
        "outputId": "54c7473e-8dfe-4cc5-cb9b-bb9747d5fea2"
      },
      "source": [
        "s.sort_values()     # 오름차순, s 값은 변화없음"
      ],
      "execution_count": 38,
      "outputs": [
        {
          "output_type": "execute_result",
          "data": {
            "text/plain": [
              "대구    2466052\n",
              "인천    2890451\n",
              "부산    3448737\n",
              "서울    9904312\n",
              "dtype: int64"
            ]
          },
          "metadata": {},
          "execution_count": 38
        }
      ]
    },
    {
      "cell_type": "code",
      "metadata": {
        "colab": {
          "base_uri": "https://localhost:8080/"
        },
        "id": "lbR59XjHvsnJ",
        "outputId": "3412bace-6fc2-4924-e072-ca8b25217a6f"
      },
      "source": [
        "s.sort_values(ascending=False, inplace=True)\n",
        "s"
      ],
      "execution_count": 40,
      "outputs": [
        {
          "output_type": "execute_result",
          "data": {
            "text/plain": [
              "서울    9904312\n",
              "부산    3448737\n",
              "인천    2890451\n",
              "대구    2466052\n",
              "dtype: int64"
            ]
          },
          "metadata": {},
          "execution_count": 40
        }
      ]
    },
    {
      "cell_type": "code",
      "metadata": {
        "id": "ZVQ97dhLvx-W"
      },
      "source": [
        ""
      ],
      "execution_count": null,
      "outputs": []
    }
  ]
}